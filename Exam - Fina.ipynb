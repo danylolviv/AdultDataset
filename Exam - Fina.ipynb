{
 "cells": [
  {
   "cell_type": "markdown",
   "id": "def5ea25",
   "metadata": {},
   "source": [
    "# Machine Learning - Exam project"
   ]
  },
  {
   "cell_type": "code",
   "execution_count": 73,
   "id": "e8c25599",
   "metadata": {},
   "outputs": [],
   "source": [
    "#Import the required dependencies\n",
    "import numpy as np\n",
    "import pandas as pd\n",
    "import os\n",
    "import tensorflow as tf\n",
    "from tensorflow import keras\n",
    "\n",
    "# Data visualisation inmports\n",
    "import matplotlib.pyplot as plt\n",
    "import seaborn as sns"
   ]
  },
  {
   "cell_type": "code",
   "execution_count": 74,
   "id": "8f7168bd",
   "metadata": {},
   "outputs": [],
   "source": [
    "#Define the data sources\n",
    "training_url = \"https://archive.ics.uci.edu/ml/machine-learning-databases/adult/adult.data\"\n",
    "test_url = \"https://archive.ics.uci.edu/ml/machine-learning-databases/adult/adult.test\"\n",
    "\n",
    "#Assigning the column\n",
    "column_names = ['age', 'workclass', 'fnlwgt', 'education', 'educationNum','maritalStatus','occupation','relationship','race','sex','capitalGain','capitalLoss','hoursPerWeek','nativeCountry','salary']\n",
    "\n",
    "#Define the DataFrames\n",
    "training_df = pd.read_csv(training_url, names=column_names)\n",
    "test_df = pd.read_csv(test_url, names=column_names)"
   ]
  },
  {
   "cell_type": "code",
   "execution_count": 75,
   "id": "41e153ba",
   "metadata": {},
   "outputs": [
    {
     "data": {
      "text/html": [
       "<div>\n",
       "<style scoped>\n",
       "    .dataframe tbody tr th:only-of-type {\n",
       "        vertical-align: middle;\n",
       "    }\n",
       "\n",
       "    .dataframe tbody tr th {\n",
       "        vertical-align: top;\n",
       "    }\n",
       "\n",
       "    .dataframe thead th {\n",
       "        text-align: right;\n",
       "    }\n",
       "</style>\n",
       "<table border=\"1\" class=\"dataframe\">\n",
       "  <thead>\n",
       "    <tr style=\"text-align: right;\">\n",
       "      <th></th>\n",
       "      <th>age</th>\n",
       "      <th>workclass</th>\n",
       "      <th>fnlwgt</th>\n",
       "      <th>education</th>\n",
       "      <th>educationNum</th>\n",
       "      <th>maritalStatus</th>\n",
       "      <th>occupation</th>\n",
       "      <th>relationship</th>\n",
       "      <th>race</th>\n",
       "      <th>sex</th>\n",
       "      <th>capitalGain</th>\n",
       "      <th>capitalLoss</th>\n",
       "      <th>hoursPerWeek</th>\n",
       "      <th>nativeCountry</th>\n",
       "      <th>salary</th>\n",
       "    </tr>\n",
       "  </thead>\n",
       "  <tbody>\n",
       "    <tr>\n",
       "      <th>0</th>\n",
       "      <td>39</td>\n",
       "      <td>State-gov</td>\n",
       "      <td>77516</td>\n",
       "      <td>Bachelors</td>\n",
       "      <td>13</td>\n",
       "      <td>Never-married</td>\n",
       "      <td>Adm-clerical</td>\n",
       "      <td>Not-in-family</td>\n",
       "      <td>White</td>\n",
       "      <td>Male</td>\n",
       "      <td>2174</td>\n",
       "      <td>0</td>\n",
       "      <td>40</td>\n",
       "      <td>United-States</td>\n",
       "      <td>&lt;=50K</td>\n",
       "    </tr>\n",
       "    <tr>\n",
       "      <th>1</th>\n",
       "      <td>50</td>\n",
       "      <td>Self-emp-not-inc</td>\n",
       "      <td>83311</td>\n",
       "      <td>Bachelors</td>\n",
       "      <td>13</td>\n",
       "      <td>Married-civ-spouse</td>\n",
       "      <td>Exec-managerial</td>\n",
       "      <td>Husband</td>\n",
       "      <td>White</td>\n",
       "      <td>Male</td>\n",
       "      <td>0</td>\n",
       "      <td>0</td>\n",
       "      <td>13</td>\n",
       "      <td>United-States</td>\n",
       "      <td>&lt;=50K</td>\n",
       "    </tr>\n",
       "    <tr>\n",
       "      <th>2</th>\n",
       "      <td>38</td>\n",
       "      <td>Private</td>\n",
       "      <td>215646</td>\n",
       "      <td>HS-grad</td>\n",
       "      <td>9</td>\n",
       "      <td>Divorced</td>\n",
       "      <td>Handlers-cleaners</td>\n",
       "      <td>Not-in-family</td>\n",
       "      <td>White</td>\n",
       "      <td>Male</td>\n",
       "      <td>0</td>\n",
       "      <td>0</td>\n",
       "      <td>40</td>\n",
       "      <td>United-States</td>\n",
       "      <td>&lt;=50K</td>\n",
       "    </tr>\n",
       "    <tr>\n",
       "      <th>3</th>\n",
       "      <td>53</td>\n",
       "      <td>Private</td>\n",
       "      <td>234721</td>\n",
       "      <td>11th</td>\n",
       "      <td>7</td>\n",
       "      <td>Married-civ-spouse</td>\n",
       "      <td>Handlers-cleaners</td>\n",
       "      <td>Husband</td>\n",
       "      <td>Black</td>\n",
       "      <td>Male</td>\n",
       "      <td>0</td>\n",
       "      <td>0</td>\n",
       "      <td>40</td>\n",
       "      <td>United-States</td>\n",
       "      <td>&lt;=50K</td>\n",
       "    </tr>\n",
       "    <tr>\n",
       "      <th>4</th>\n",
       "      <td>28</td>\n",
       "      <td>Private</td>\n",
       "      <td>338409</td>\n",
       "      <td>Bachelors</td>\n",
       "      <td>13</td>\n",
       "      <td>Married-civ-spouse</td>\n",
       "      <td>Prof-specialty</td>\n",
       "      <td>Wife</td>\n",
       "      <td>Black</td>\n",
       "      <td>Female</td>\n",
       "      <td>0</td>\n",
       "      <td>0</td>\n",
       "      <td>40</td>\n",
       "      <td>Cuba</td>\n",
       "      <td>&lt;=50K</td>\n",
       "    </tr>\n",
       "    <tr>\n",
       "      <th>...</th>\n",
       "      <td>...</td>\n",
       "      <td>...</td>\n",
       "      <td>...</td>\n",
       "      <td>...</td>\n",
       "      <td>...</td>\n",
       "      <td>...</td>\n",
       "      <td>...</td>\n",
       "      <td>...</td>\n",
       "      <td>...</td>\n",
       "      <td>...</td>\n",
       "      <td>...</td>\n",
       "      <td>...</td>\n",
       "      <td>...</td>\n",
       "      <td>...</td>\n",
       "      <td>...</td>\n",
       "    </tr>\n",
       "    <tr>\n",
       "      <th>32556</th>\n",
       "      <td>27</td>\n",
       "      <td>Private</td>\n",
       "      <td>257302</td>\n",
       "      <td>Assoc-acdm</td>\n",
       "      <td>12</td>\n",
       "      <td>Married-civ-spouse</td>\n",
       "      <td>Tech-support</td>\n",
       "      <td>Wife</td>\n",
       "      <td>White</td>\n",
       "      <td>Female</td>\n",
       "      <td>0</td>\n",
       "      <td>0</td>\n",
       "      <td>38</td>\n",
       "      <td>United-States</td>\n",
       "      <td>&lt;=50K</td>\n",
       "    </tr>\n",
       "    <tr>\n",
       "      <th>32557</th>\n",
       "      <td>40</td>\n",
       "      <td>Private</td>\n",
       "      <td>154374</td>\n",
       "      <td>HS-grad</td>\n",
       "      <td>9</td>\n",
       "      <td>Married-civ-spouse</td>\n",
       "      <td>Machine-op-inspct</td>\n",
       "      <td>Husband</td>\n",
       "      <td>White</td>\n",
       "      <td>Male</td>\n",
       "      <td>0</td>\n",
       "      <td>0</td>\n",
       "      <td>40</td>\n",
       "      <td>United-States</td>\n",
       "      <td>&gt;50K</td>\n",
       "    </tr>\n",
       "    <tr>\n",
       "      <th>32558</th>\n",
       "      <td>58</td>\n",
       "      <td>Private</td>\n",
       "      <td>151910</td>\n",
       "      <td>HS-grad</td>\n",
       "      <td>9</td>\n",
       "      <td>Widowed</td>\n",
       "      <td>Adm-clerical</td>\n",
       "      <td>Unmarried</td>\n",
       "      <td>White</td>\n",
       "      <td>Female</td>\n",
       "      <td>0</td>\n",
       "      <td>0</td>\n",
       "      <td>40</td>\n",
       "      <td>United-States</td>\n",
       "      <td>&lt;=50K</td>\n",
       "    </tr>\n",
       "    <tr>\n",
       "      <th>32559</th>\n",
       "      <td>22</td>\n",
       "      <td>Private</td>\n",
       "      <td>201490</td>\n",
       "      <td>HS-grad</td>\n",
       "      <td>9</td>\n",
       "      <td>Never-married</td>\n",
       "      <td>Adm-clerical</td>\n",
       "      <td>Own-child</td>\n",
       "      <td>White</td>\n",
       "      <td>Male</td>\n",
       "      <td>0</td>\n",
       "      <td>0</td>\n",
       "      <td>20</td>\n",
       "      <td>United-States</td>\n",
       "      <td>&lt;=50K</td>\n",
       "    </tr>\n",
       "    <tr>\n",
       "      <th>32560</th>\n",
       "      <td>52</td>\n",
       "      <td>Self-emp-inc</td>\n",
       "      <td>287927</td>\n",
       "      <td>HS-grad</td>\n",
       "      <td>9</td>\n",
       "      <td>Married-civ-spouse</td>\n",
       "      <td>Exec-managerial</td>\n",
       "      <td>Wife</td>\n",
       "      <td>White</td>\n",
       "      <td>Female</td>\n",
       "      <td>15024</td>\n",
       "      <td>0</td>\n",
       "      <td>40</td>\n",
       "      <td>United-States</td>\n",
       "      <td>&gt;50K</td>\n",
       "    </tr>\n",
       "  </tbody>\n",
       "</table>\n",
       "<p>32561 rows × 15 columns</p>\n",
       "</div>"
      ],
      "text/plain": [
       "       age          workclass  fnlwgt    education  educationNum  \\\n",
       "0       39          State-gov   77516    Bachelors            13   \n",
       "1       50   Self-emp-not-inc   83311    Bachelors            13   \n",
       "2       38            Private  215646      HS-grad             9   \n",
       "3       53            Private  234721         11th             7   \n",
       "4       28            Private  338409    Bachelors            13   \n",
       "...    ...                ...     ...          ...           ...   \n",
       "32556   27            Private  257302   Assoc-acdm            12   \n",
       "32557   40            Private  154374      HS-grad             9   \n",
       "32558   58            Private  151910      HS-grad             9   \n",
       "32559   22            Private  201490      HS-grad             9   \n",
       "32560   52       Self-emp-inc  287927      HS-grad             9   \n",
       "\n",
       "             maritalStatus          occupation    relationship    race  \\\n",
       "0            Never-married        Adm-clerical   Not-in-family   White   \n",
       "1       Married-civ-spouse     Exec-managerial         Husband   White   \n",
       "2                 Divorced   Handlers-cleaners   Not-in-family   White   \n",
       "3       Married-civ-spouse   Handlers-cleaners         Husband   Black   \n",
       "4       Married-civ-spouse      Prof-specialty            Wife   Black   \n",
       "...                    ...                 ...             ...     ...   \n",
       "32556   Married-civ-spouse        Tech-support            Wife   White   \n",
       "32557   Married-civ-spouse   Machine-op-inspct         Husband   White   \n",
       "32558              Widowed        Adm-clerical       Unmarried   White   \n",
       "32559        Never-married        Adm-clerical       Own-child   White   \n",
       "32560   Married-civ-spouse     Exec-managerial            Wife   White   \n",
       "\n",
       "           sex  capitalGain  capitalLoss  hoursPerWeek   nativeCountry  salary  \n",
       "0         Male         2174            0            40   United-States   <=50K  \n",
       "1         Male            0            0            13   United-States   <=50K  \n",
       "2         Male            0            0            40   United-States   <=50K  \n",
       "3         Male            0            0            40   United-States   <=50K  \n",
       "4       Female            0            0            40            Cuba   <=50K  \n",
       "...        ...          ...          ...           ...             ...     ...  \n",
       "32556   Female            0            0            38   United-States   <=50K  \n",
       "32557     Male            0            0            40   United-States    >50K  \n",
       "32558   Female            0            0            40   United-States   <=50K  \n",
       "32559     Male            0            0            20   United-States   <=50K  \n",
       "32560   Female        15024            0            40   United-States    >50K  \n",
       "\n",
       "[32561 rows x 15 columns]"
      ]
     },
     "execution_count": 75,
     "metadata": {},
     "output_type": "execute_result"
    }
   ],
   "source": [
    "# saving a copy to preserve descriptive values\n",
    "training_df_pre_transformation = training_df\n",
    "\n",
    "# Displaying our training dataset formatted in our way\n",
    "training_df"
   ]
  },
  {
   "cell_type": "code",
   "execution_count": 76,
   "id": "2396a634",
   "metadata": {},
   "outputs": [
    {
     "data": {
      "text/html": [
       "<div>\n",
       "<style scoped>\n",
       "    .dataframe tbody tr th:only-of-type {\n",
       "        vertical-align: middle;\n",
       "    }\n",
       "\n",
       "    .dataframe tbody tr th {\n",
       "        vertical-align: top;\n",
       "    }\n",
       "\n",
       "    .dataframe thead th {\n",
       "        text-align: right;\n",
       "    }\n",
       "</style>\n",
       "<table border=\"1\" class=\"dataframe\">\n",
       "  <thead>\n",
       "    <tr style=\"text-align: right;\">\n",
       "      <th></th>\n",
       "      <th>age</th>\n",
       "      <th>workclass</th>\n",
       "      <th>fnlwgt</th>\n",
       "      <th>education</th>\n",
       "      <th>educationNum</th>\n",
       "      <th>maritalStatus</th>\n",
       "      <th>occupation</th>\n",
       "      <th>relationship</th>\n",
       "      <th>race</th>\n",
       "      <th>sex</th>\n",
       "      <th>capitalGain</th>\n",
       "      <th>capitalLoss</th>\n",
       "      <th>hoursPerWeek</th>\n",
       "      <th>nativeCountry</th>\n",
       "      <th>salary</th>\n",
       "    </tr>\n",
       "  </thead>\n",
       "  <tbody>\n",
       "    <tr>\n",
       "      <th>0</th>\n",
       "      <td>|1x3 Cross validator</td>\n",
       "      <td>NaN</td>\n",
       "      <td>NaN</td>\n",
       "      <td>NaN</td>\n",
       "      <td>NaN</td>\n",
       "      <td>NaN</td>\n",
       "      <td>NaN</td>\n",
       "      <td>NaN</td>\n",
       "      <td>NaN</td>\n",
       "      <td>NaN</td>\n",
       "      <td>NaN</td>\n",
       "      <td>NaN</td>\n",
       "      <td>NaN</td>\n",
       "      <td>NaN</td>\n",
       "      <td>NaN</td>\n",
       "    </tr>\n",
       "    <tr>\n",
       "      <th>1</th>\n",
       "      <td>25</td>\n",
       "      <td>Private</td>\n",
       "      <td>226802.0</td>\n",
       "      <td>11th</td>\n",
       "      <td>7.0</td>\n",
       "      <td>Never-married</td>\n",
       "      <td>Machine-op-inspct</td>\n",
       "      <td>Own-child</td>\n",
       "      <td>Black</td>\n",
       "      <td>Male</td>\n",
       "      <td>0.0</td>\n",
       "      <td>0.0</td>\n",
       "      <td>40.0</td>\n",
       "      <td>United-States</td>\n",
       "      <td>&lt;=50K.</td>\n",
       "    </tr>\n",
       "    <tr>\n",
       "      <th>2</th>\n",
       "      <td>38</td>\n",
       "      <td>Private</td>\n",
       "      <td>89814.0</td>\n",
       "      <td>HS-grad</td>\n",
       "      <td>9.0</td>\n",
       "      <td>Married-civ-spouse</td>\n",
       "      <td>Farming-fishing</td>\n",
       "      <td>Husband</td>\n",
       "      <td>White</td>\n",
       "      <td>Male</td>\n",
       "      <td>0.0</td>\n",
       "      <td>0.0</td>\n",
       "      <td>50.0</td>\n",
       "      <td>United-States</td>\n",
       "      <td>&lt;=50K.</td>\n",
       "    </tr>\n",
       "    <tr>\n",
       "      <th>3</th>\n",
       "      <td>28</td>\n",
       "      <td>Local-gov</td>\n",
       "      <td>336951.0</td>\n",
       "      <td>Assoc-acdm</td>\n",
       "      <td>12.0</td>\n",
       "      <td>Married-civ-spouse</td>\n",
       "      <td>Protective-serv</td>\n",
       "      <td>Husband</td>\n",
       "      <td>White</td>\n",
       "      <td>Male</td>\n",
       "      <td>0.0</td>\n",
       "      <td>0.0</td>\n",
       "      <td>40.0</td>\n",
       "      <td>United-States</td>\n",
       "      <td>&gt;50K.</td>\n",
       "    </tr>\n",
       "    <tr>\n",
       "      <th>4</th>\n",
       "      <td>44</td>\n",
       "      <td>Private</td>\n",
       "      <td>160323.0</td>\n",
       "      <td>Some-college</td>\n",
       "      <td>10.0</td>\n",
       "      <td>Married-civ-spouse</td>\n",
       "      <td>Machine-op-inspct</td>\n",
       "      <td>Husband</td>\n",
       "      <td>Black</td>\n",
       "      <td>Male</td>\n",
       "      <td>7688.0</td>\n",
       "      <td>0.0</td>\n",
       "      <td>40.0</td>\n",
       "      <td>United-States</td>\n",
       "      <td>&gt;50K.</td>\n",
       "    </tr>\n",
       "    <tr>\n",
       "      <th>...</th>\n",
       "      <td>...</td>\n",
       "      <td>...</td>\n",
       "      <td>...</td>\n",
       "      <td>...</td>\n",
       "      <td>...</td>\n",
       "      <td>...</td>\n",
       "      <td>...</td>\n",
       "      <td>...</td>\n",
       "      <td>...</td>\n",
       "      <td>...</td>\n",
       "      <td>...</td>\n",
       "      <td>...</td>\n",
       "      <td>...</td>\n",
       "      <td>...</td>\n",
       "      <td>...</td>\n",
       "    </tr>\n",
       "    <tr>\n",
       "      <th>16277</th>\n",
       "      <td>39</td>\n",
       "      <td>Private</td>\n",
       "      <td>215419.0</td>\n",
       "      <td>Bachelors</td>\n",
       "      <td>13.0</td>\n",
       "      <td>Divorced</td>\n",
       "      <td>Prof-specialty</td>\n",
       "      <td>Not-in-family</td>\n",
       "      <td>White</td>\n",
       "      <td>Female</td>\n",
       "      <td>0.0</td>\n",
       "      <td>0.0</td>\n",
       "      <td>36.0</td>\n",
       "      <td>United-States</td>\n",
       "      <td>&lt;=50K.</td>\n",
       "    </tr>\n",
       "    <tr>\n",
       "      <th>16278</th>\n",
       "      <td>64</td>\n",
       "      <td>?</td>\n",
       "      <td>321403.0</td>\n",
       "      <td>HS-grad</td>\n",
       "      <td>9.0</td>\n",
       "      <td>Widowed</td>\n",
       "      <td>?</td>\n",
       "      <td>Other-relative</td>\n",
       "      <td>Black</td>\n",
       "      <td>Male</td>\n",
       "      <td>0.0</td>\n",
       "      <td>0.0</td>\n",
       "      <td>40.0</td>\n",
       "      <td>United-States</td>\n",
       "      <td>&lt;=50K.</td>\n",
       "    </tr>\n",
       "    <tr>\n",
       "      <th>16279</th>\n",
       "      <td>38</td>\n",
       "      <td>Private</td>\n",
       "      <td>374983.0</td>\n",
       "      <td>Bachelors</td>\n",
       "      <td>13.0</td>\n",
       "      <td>Married-civ-spouse</td>\n",
       "      <td>Prof-specialty</td>\n",
       "      <td>Husband</td>\n",
       "      <td>White</td>\n",
       "      <td>Male</td>\n",
       "      <td>0.0</td>\n",
       "      <td>0.0</td>\n",
       "      <td>50.0</td>\n",
       "      <td>United-States</td>\n",
       "      <td>&lt;=50K.</td>\n",
       "    </tr>\n",
       "    <tr>\n",
       "      <th>16280</th>\n",
       "      <td>44</td>\n",
       "      <td>Private</td>\n",
       "      <td>83891.0</td>\n",
       "      <td>Bachelors</td>\n",
       "      <td>13.0</td>\n",
       "      <td>Divorced</td>\n",
       "      <td>Adm-clerical</td>\n",
       "      <td>Own-child</td>\n",
       "      <td>Asian-Pac-Islander</td>\n",
       "      <td>Male</td>\n",
       "      <td>5455.0</td>\n",
       "      <td>0.0</td>\n",
       "      <td>40.0</td>\n",
       "      <td>United-States</td>\n",
       "      <td>&lt;=50K.</td>\n",
       "    </tr>\n",
       "    <tr>\n",
       "      <th>16281</th>\n",
       "      <td>35</td>\n",
       "      <td>Self-emp-inc</td>\n",
       "      <td>182148.0</td>\n",
       "      <td>Bachelors</td>\n",
       "      <td>13.0</td>\n",
       "      <td>Married-civ-spouse</td>\n",
       "      <td>Exec-managerial</td>\n",
       "      <td>Husband</td>\n",
       "      <td>White</td>\n",
       "      <td>Male</td>\n",
       "      <td>0.0</td>\n",
       "      <td>0.0</td>\n",
       "      <td>60.0</td>\n",
       "      <td>United-States</td>\n",
       "      <td>&gt;50K.</td>\n",
       "    </tr>\n",
       "  </tbody>\n",
       "</table>\n",
       "<p>16282 rows × 15 columns</p>\n",
       "</div>"
      ],
      "text/plain": [
       "                        age      workclass    fnlwgt      education  \\\n",
       "0      |1x3 Cross validator            NaN       NaN            NaN   \n",
       "1                        25        Private  226802.0           11th   \n",
       "2                        38        Private   89814.0        HS-grad   \n",
       "3                        28      Local-gov  336951.0     Assoc-acdm   \n",
       "4                        44        Private  160323.0   Some-college   \n",
       "...                     ...            ...       ...            ...   \n",
       "16277                    39        Private  215419.0      Bachelors   \n",
       "16278                    64              ?  321403.0        HS-grad   \n",
       "16279                    38        Private  374983.0      Bachelors   \n",
       "16280                    44        Private   83891.0      Bachelors   \n",
       "16281                    35   Self-emp-inc  182148.0      Bachelors   \n",
       "\n",
       "       educationNum        maritalStatus          occupation     relationship  \\\n",
       "0               NaN                  NaN                 NaN              NaN   \n",
       "1               7.0        Never-married   Machine-op-inspct        Own-child   \n",
       "2               9.0   Married-civ-spouse     Farming-fishing          Husband   \n",
       "3              12.0   Married-civ-spouse     Protective-serv          Husband   \n",
       "4              10.0   Married-civ-spouse   Machine-op-inspct          Husband   \n",
       "...             ...                  ...                 ...              ...   \n",
       "16277          13.0             Divorced      Prof-specialty    Not-in-family   \n",
       "16278           9.0              Widowed                   ?   Other-relative   \n",
       "16279          13.0   Married-civ-spouse      Prof-specialty          Husband   \n",
       "16280          13.0             Divorced        Adm-clerical        Own-child   \n",
       "16281          13.0   Married-civ-spouse     Exec-managerial          Husband   \n",
       "\n",
       "                      race      sex  capitalGain  capitalLoss  hoursPerWeek  \\\n",
       "0                      NaN      NaN          NaN          NaN           NaN   \n",
       "1                    Black     Male          0.0          0.0          40.0   \n",
       "2                    White     Male          0.0          0.0          50.0   \n",
       "3                    White     Male          0.0          0.0          40.0   \n",
       "4                    Black     Male       7688.0          0.0          40.0   \n",
       "...                    ...      ...          ...          ...           ...   \n",
       "16277                White   Female          0.0          0.0          36.0   \n",
       "16278                Black     Male          0.0          0.0          40.0   \n",
       "16279                White     Male          0.0          0.0          50.0   \n",
       "16280   Asian-Pac-Islander     Male       5455.0          0.0          40.0   \n",
       "16281                White     Male          0.0          0.0          60.0   \n",
       "\n",
       "        nativeCountry   salary  \n",
       "0                 NaN      NaN  \n",
       "1       United-States   <=50K.  \n",
       "2       United-States   <=50K.  \n",
       "3       United-States    >50K.  \n",
       "4       United-States    >50K.  \n",
       "...               ...      ...  \n",
       "16277   United-States   <=50K.  \n",
       "16278   United-States   <=50K.  \n",
       "16279   United-States   <=50K.  \n",
       "16280   United-States   <=50K.  \n",
       "16281   United-States    >50K.  \n",
       "\n",
       "[16282 rows x 15 columns]"
      ]
     },
     "execution_count": 76,
     "metadata": {},
     "output_type": "execute_result"
    }
   ],
   "source": [
    "# Displaying our test dataset formatted in our way\n",
    "test_df"
   ]
  },
  {
   "cell_type": "code",
   "execution_count": null,
   "id": "84192fbf",
   "metadata": {},
   "outputs": [],
   "source": []
  },
  {
   "cell_type": "markdown",
   "id": "4e786b37",
   "metadata": {},
   "source": [
    "## Preparation of data\n",
    "In this section we will be preparing the data to be used for training and evaluation. This includes removing the null values from the dataset."
   ]
  },
  {
   "cell_type": "markdown",
   "id": "5c2a89ad",
   "metadata": {},
   "source": [
    "### Training dataset"
   ]
  },
  {
   "cell_type": "code",
   "execution_count": 77,
   "id": "b548569f",
   "metadata": {},
   "outputs": [
    {
     "name": "stdout",
     "output_type": "stream",
     "text": [
      "Number of rows pre data preparation 32561\n"
     ]
    }
   ],
   "source": [
    "# Saving number of data rows to the variable for future comparison. \n",
    "pre_preparation_training_rows = training_df.shape[0]\n",
    "\n",
    "print(f\"Number of rows pre data preparation {pre_preparation_training_rows}\")"
   ]
  },
  {
   "cell_type": "code",
   "execution_count": 78,
   "id": "8ff688b3",
   "metadata": {},
   "outputs": [
    {
     "data": {
      "text/plain": [
       "age              0\n",
       "workclass        0\n",
       "fnlwgt           0\n",
       "education        0\n",
       "educationNum     0\n",
       "maritalStatus    0\n",
       "occupation       0\n",
       "relationship     0\n",
       "race             0\n",
       "sex              0\n",
       "capitalGain      0\n",
       "capitalLoss      0\n",
       "hoursPerWeek     0\n",
       "nativeCountry    0\n",
       "salary           0\n",
       "dtype: int64"
      ]
     },
     "execution_count": 78,
     "metadata": {},
     "output_type": "execute_result"
    }
   ],
   "source": [
    "# Getting the num of null values in every column:\n",
    "training_df.isnull().sum()"
   ]
  },
  {
   "cell_type": "code",
   "execution_count": 79,
   "id": "e3513919",
   "metadata": {},
   "outputs": [
    {
     "name": "stdout",
     "output_type": "stream",
     "text": [
      "Number of rows post removing rows with null values 32561 number of rows removed 0\n"
     ]
    }
   ],
   "source": [
    "# Removing the rows containing null values from the training dataset\n",
    "training_df = training_df.dropna(how='any')\n",
    "\n",
    "# Saving number of data rows to the variable for future comparison. \n",
    "post_preparation_training_rows = training_df.shape[0]\n",
    "\n",
    "print(f\"Number of rows post removing rows with null values {post_preparation_training_rows} number of rows removed {post_preparation_training_rows - pre_preparation_training_rows}\")"
   ]
  },
  {
   "cell_type": "markdown",
   "id": "56756ca8",
   "metadata": {},
   "source": [
    "Running training_df.dropna on the training dataset didn't remove any rows because it had no NaN values what we could also see from running training_df.isnull().sum() "
   ]
  },
  {
   "cell_type": "code",
   "execution_count": 80,
   "id": "d9def383",
   "metadata": {},
   "outputs": [
    {
     "name": "stdout",
     "output_type": "stream",
     "text": [
      "Number of rows post removing rows with data points equal to '?' 30162 number of rows removed 2399\n"
     ]
    }
   ],
   "source": [
    "# Removing the rows with data points equal to '?'\n",
    "training_df = training_df[~training_df[column_names].isin([' ?']).any(axis=1)]\n",
    "\n",
    "# Saving number of data rows to the variable for future comparison. \n",
    "post_preparation_training_rows = training_df.shape[0]\n",
    "\n",
    "print(f\"Number of rows post removing rows with data points equal to '?' {post_preparation_training_rows} number of rows removed {pre_preparation_training_rows - post_preparation_training_rows}\")"
   ]
  },
  {
   "cell_type": "code",
   "execution_count": 81,
   "id": "1c09891c",
   "metadata": {},
   "outputs": [
    {
     "name": "stdout",
     "output_type": "stream",
     "text": [
      "The percent difference between the number of rows pre and post our data preparation 7.37%\n"
     ]
    }
   ],
   "source": [
    "# Comparing number of result data preparation had on our dataset.\n",
    "diff_rows = (pre_preparation_training_rows - post_preparation_training_rows) / pre_preparation_training_rows * 100\n",
    "\n",
    "print(f\"The percent difference between the number of rows pre and post our data preparation {diff_rows:.2f}%\")"
   ]
  },
  {
   "cell_type": "markdown",
   "id": "28310145",
   "metadata": {},
   "source": [
    "### Testing dataset"
   ]
  },
  {
   "cell_type": "code",
   "execution_count": 82,
   "id": "953d3fe2",
   "metadata": {},
   "outputs": [
    {
     "name": "stdout",
     "output_type": "stream",
     "text": [
      "Number of rows pre data preparation 16282\n"
     ]
    }
   ],
   "source": [
    "# Saving number of data rows to the variable for future comparison. \n",
    "pre_preparation_test_rows = test_df.shape[0]\n",
    "\n",
    "print(f\"Number of rows pre data preparation {pre_preparation_test_rows}\")"
   ]
  },
  {
   "cell_type": "code",
   "execution_count": 83,
   "id": "d58cf698",
   "metadata": {},
   "outputs": [
    {
     "data": {
      "text/plain": [
       "age              0\n",
       "workclass        1\n",
       "fnlwgt           1\n",
       "education        1\n",
       "educationNum     1\n",
       "maritalStatus    1\n",
       "occupation       1\n",
       "relationship     1\n",
       "race             1\n",
       "sex              1\n",
       "capitalGain      1\n",
       "capitalLoss      1\n",
       "hoursPerWeek     1\n",
       "nativeCountry    1\n",
       "salary           1\n",
       "dtype: int64"
      ]
     },
     "execution_count": 83,
     "metadata": {},
     "output_type": "execute_result"
    }
   ],
   "source": [
    "# Getting the num of null values in every column:\n",
    "test_df.isnull().sum()"
   ]
  },
  {
   "cell_type": "code",
   "execution_count": 84,
   "id": "d7a52c24",
   "metadata": {},
   "outputs": [
    {
     "name": "stdout",
     "output_type": "stream",
     "text": [
      "Number of rows post removing rows with null values 16281 number of rows removed -1\n"
     ]
    }
   ],
   "source": [
    "# Removing the rows containing null values from the training dataset\n",
    "test_df = test_df.dropna(how='any')\n",
    "\n",
    "# Saving number of data rows to the variable for future comparison. \n",
    "post_preparation_test_rows = test_df.shape[0]\n",
    "\n",
    "print(f\"Number of rows post removing rows with null values {post_preparation_test_rows} number of rows removed {post_preparation_test_rows - pre_preparation_test_rows}\")"
   ]
  },
  {
   "cell_type": "markdown",
   "id": "b119f068",
   "metadata": {},
   "source": [
    "Unlike the training data test data has some NaN data so some of the rows are removed from the dataset."
   ]
  },
  {
   "cell_type": "code",
   "execution_count": 85,
   "id": "5eb823e8",
   "metadata": {},
   "outputs": [
    {
     "name": "stdout",
     "output_type": "stream",
     "text": [
      "Number of rows post removing rows with data points equal to '?' 15060 number of rows removed 1222\n"
     ]
    }
   ],
   "source": [
    "# Removing the rows with data points equal to '?'\n",
    "test_df = test_df[~test_df[column_names].isin([' ?']).any(axis=1)]\n",
    "\n",
    "# Saving number of data rows to the variable for future comparison. \n",
    "post_preparation_test_rows = test_df.shape[0]\n",
    "\n",
    "print(f\"Number of rows post removing rows with data points equal to '?' {post_preparation_test_rows} number of rows removed {pre_preparation_test_rows - post_preparation_test_rows}\")"
   ]
  },
  {
   "cell_type": "code",
   "execution_count": 86,
   "id": "699dccf0",
   "metadata": {},
   "outputs": [
    {
     "name": "stdout",
     "output_type": "stream",
     "text": [
      "The percent difference between the number of rows pre and post data preparation 7.51%\n"
     ]
    }
   ],
   "source": [
    "# Comparing number of result data preparation had on our dataset.\n",
    "diff_rows = (pre_preparation_test_rows - post_preparation_test_rows) / pre_preparation_test_rows * 100\n",
    "\n",
    "print(f\"The percent difference between the number of rows pre and post data preparation {diff_rows:.2f}%\")"
   ]
  },
  {
   "cell_type": "code",
   "execution_count": null,
   "id": "1d7e1dfb",
   "metadata": {},
   "outputs": [],
   "source": []
  },
  {
   "cell_type": "markdown",
   "id": "370d9d6b",
   "metadata": {},
   "source": [
    "## Data preprocessing\n"
   ]
  },
  {
   "cell_type": "code",
   "execution_count": 88,
   "id": "dc381e1b",
   "metadata": {},
   "outputs": [],
   "source": [
    "#Import the required dependencies\n",
    "from sklearn.preprocessing import LabelEncoder"
   ]
  },
  {
   "cell_type": "code",
   "execution_count": 89,
   "id": "6b628308",
   "metadata": {},
   "outputs": [],
   "source": [
    "# Initialize the labelEncoder variable\n",
    "label_encoder = LabelEncoder()"
   ]
  },
  {
   "cell_type": "code",
   "execution_count": 90,
   "id": "3cc1a99c",
   "metadata": {},
   "outputs": [],
   "source": [
    "# Deterfining which columns to be transformed\n",
    "colums_to_transform = ['workclass', 'education', 'maritalStatus', 'occupation', 'relationship', 'race', 'sex', 'nativeCountry', 'salary']"
   ]
  },
  {
   "cell_type": "markdown",
   "id": "ce16f691",
   "metadata": {},
   "source": [
    "### Training dataset"
   ]
  },
  {
   "cell_type": "code",
   "execution_count": 91,
   "id": "71098c5e",
   "metadata": {},
   "outputs": [
    {
     "data": {
      "text/html": [
       "<div>\n",
       "<style scoped>\n",
       "    .dataframe tbody tr th:only-of-type {\n",
       "        vertical-align: middle;\n",
       "    }\n",
       "\n",
       "    .dataframe tbody tr th {\n",
       "        vertical-align: top;\n",
       "    }\n",
       "\n",
       "    .dataframe thead th {\n",
       "        text-align: right;\n",
       "    }\n",
       "</style>\n",
       "<table border=\"1\" class=\"dataframe\">\n",
       "  <thead>\n",
       "    <tr style=\"text-align: right;\">\n",
       "      <th></th>\n",
       "      <th>age</th>\n",
       "      <th>workclass</th>\n",
       "      <th>fnlwgt</th>\n",
       "      <th>education</th>\n",
       "      <th>educationNum</th>\n",
       "      <th>maritalStatus</th>\n",
       "      <th>occupation</th>\n",
       "      <th>relationship</th>\n",
       "      <th>race</th>\n",
       "      <th>sex</th>\n",
       "      <th>capitalGain</th>\n",
       "      <th>capitalLoss</th>\n",
       "      <th>hoursPerWeek</th>\n",
       "      <th>nativeCountry</th>\n",
       "      <th>salary</th>\n",
       "    </tr>\n",
       "  </thead>\n",
       "  <tbody>\n",
       "    <tr>\n",
       "      <th>0</th>\n",
       "      <td>39</td>\n",
       "      <td>5</td>\n",
       "      <td>77516</td>\n",
       "      <td>9</td>\n",
       "      <td>13</td>\n",
       "      <td>4</td>\n",
       "      <td>0</td>\n",
       "      <td>1</td>\n",
       "      <td>4</td>\n",
       "      <td>1</td>\n",
       "      <td>2174</td>\n",
       "      <td>0</td>\n",
       "      <td>40</td>\n",
       "      <td>38</td>\n",
       "      <td>0</td>\n",
       "    </tr>\n",
       "    <tr>\n",
       "      <th>1</th>\n",
       "      <td>50</td>\n",
       "      <td>4</td>\n",
       "      <td>83311</td>\n",
       "      <td>9</td>\n",
       "      <td>13</td>\n",
       "      <td>2</td>\n",
       "      <td>3</td>\n",
       "      <td>0</td>\n",
       "      <td>4</td>\n",
       "      <td>1</td>\n",
       "      <td>0</td>\n",
       "      <td>0</td>\n",
       "      <td>13</td>\n",
       "      <td>38</td>\n",
       "      <td>0</td>\n",
       "    </tr>\n",
       "    <tr>\n",
       "      <th>2</th>\n",
       "      <td>38</td>\n",
       "      <td>2</td>\n",
       "      <td>215646</td>\n",
       "      <td>11</td>\n",
       "      <td>9</td>\n",
       "      <td>0</td>\n",
       "      <td>5</td>\n",
       "      <td>1</td>\n",
       "      <td>4</td>\n",
       "      <td>1</td>\n",
       "      <td>0</td>\n",
       "      <td>0</td>\n",
       "      <td>40</td>\n",
       "      <td>38</td>\n",
       "      <td>0</td>\n",
       "    </tr>\n",
       "    <tr>\n",
       "      <th>3</th>\n",
       "      <td>53</td>\n",
       "      <td>2</td>\n",
       "      <td>234721</td>\n",
       "      <td>1</td>\n",
       "      <td>7</td>\n",
       "      <td>2</td>\n",
       "      <td>5</td>\n",
       "      <td>0</td>\n",
       "      <td>2</td>\n",
       "      <td>1</td>\n",
       "      <td>0</td>\n",
       "      <td>0</td>\n",
       "      <td>40</td>\n",
       "      <td>38</td>\n",
       "      <td>0</td>\n",
       "    </tr>\n",
       "    <tr>\n",
       "      <th>4</th>\n",
       "      <td>28</td>\n",
       "      <td>2</td>\n",
       "      <td>338409</td>\n",
       "      <td>9</td>\n",
       "      <td>13</td>\n",
       "      <td>2</td>\n",
       "      <td>9</td>\n",
       "      <td>5</td>\n",
       "      <td>2</td>\n",
       "      <td>0</td>\n",
       "      <td>0</td>\n",
       "      <td>0</td>\n",
       "      <td>40</td>\n",
       "      <td>4</td>\n",
       "      <td>0</td>\n",
       "    </tr>\n",
       "    <tr>\n",
       "      <th>...</th>\n",
       "      <td>...</td>\n",
       "      <td>...</td>\n",
       "      <td>...</td>\n",
       "      <td>...</td>\n",
       "      <td>...</td>\n",
       "      <td>...</td>\n",
       "      <td>...</td>\n",
       "      <td>...</td>\n",
       "      <td>...</td>\n",
       "      <td>...</td>\n",
       "      <td>...</td>\n",
       "      <td>...</td>\n",
       "      <td>...</td>\n",
       "      <td>...</td>\n",
       "      <td>...</td>\n",
       "    </tr>\n",
       "    <tr>\n",
       "      <th>32556</th>\n",
       "      <td>27</td>\n",
       "      <td>2</td>\n",
       "      <td>257302</td>\n",
       "      <td>7</td>\n",
       "      <td>12</td>\n",
       "      <td>2</td>\n",
       "      <td>12</td>\n",
       "      <td>5</td>\n",
       "      <td>4</td>\n",
       "      <td>0</td>\n",
       "      <td>0</td>\n",
       "      <td>0</td>\n",
       "      <td>38</td>\n",
       "      <td>38</td>\n",
       "      <td>0</td>\n",
       "    </tr>\n",
       "    <tr>\n",
       "      <th>32557</th>\n",
       "      <td>40</td>\n",
       "      <td>2</td>\n",
       "      <td>154374</td>\n",
       "      <td>11</td>\n",
       "      <td>9</td>\n",
       "      <td>2</td>\n",
       "      <td>6</td>\n",
       "      <td>0</td>\n",
       "      <td>4</td>\n",
       "      <td>1</td>\n",
       "      <td>0</td>\n",
       "      <td>0</td>\n",
       "      <td>40</td>\n",
       "      <td>38</td>\n",
       "      <td>1</td>\n",
       "    </tr>\n",
       "    <tr>\n",
       "      <th>32558</th>\n",
       "      <td>58</td>\n",
       "      <td>2</td>\n",
       "      <td>151910</td>\n",
       "      <td>11</td>\n",
       "      <td>9</td>\n",
       "      <td>6</td>\n",
       "      <td>0</td>\n",
       "      <td>4</td>\n",
       "      <td>4</td>\n",
       "      <td>0</td>\n",
       "      <td>0</td>\n",
       "      <td>0</td>\n",
       "      <td>40</td>\n",
       "      <td>38</td>\n",
       "      <td>0</td>\n",
       "    </tr>\n",
       "    <tr>\n",
       "      <th>32559</th>\n",
       "      <td>22</td>\n",
       "      <td>2</td>\n",
       "      <td>201490</td>\n",
       "      <td>11</td>\n",
       "      <td>9</td>\n",
       "      <td>4</td>\n",
       "      <td>0</td>\n",
       "      <td>3</td>\n",
       "      <td>4</td>\n",
       "      <td>1</td>\n",
       "      <td>0</td>\n",
       "      <td>0</td>\n",
       "      <td>20</td>\n",
       "      <td>38</td>\n",
       "      <td>0</td>\n",
       "    </tr>\n",
       "    <tr>\n",
       "      <th>32560</th>\n",
       "      <td>52</td>\n",
       "      <td>3</td>\n",
       "      <td>287927</td>\n",
       "      <td>11</td>\n",
       "      <td>9</td>\n",
       "      <td>2</td>\n",
       "      <td>3</td>\n",
       "      <td>5</td>\n",
       "      <td>4</td>\n",
       "      <td>0</td>\n",
       "      <td>15024</td>\n",
       "      <td>0</td>\n",
       "      <td>40</td>\n",
       "      <td>38</td>\n",
       "      <td>1</td>\n",
       "    </tr>\n",
       "  </tbody>\n",
       "</table>\n",
       "<p>30162 rows × 15 columns</p>\n",
       "</div>"
      ],
      "text/plain": [
       "       age  workclass  fnlwgt  education  educationNum  maritalStatus  \\\n",
       "0       39          5   77516          9            13              4   \n",
       "1       50          4   83311          9            13              2   \n",
       "2       38          2  215646         11             9              0   \n",
       "3       53          2  234721          1             7              2   \n",
       "4       28          2  338409          9            13              2   \n",
       "...    ...        ...     ...        ...           ...            ...   \n",
       "32556   27          2  257302          7            12              2   \n",
       "32557   40          2  154374         11             9              2   \n",
       "32558   58          2  151910         11             9              6   \n",
       "32559   22          2  201490         11             9              4   \n",
       "32560   52          3  287927         11             9              2   \n",
       "\n",
       "       occupation  relationship  race  sex  capitalGain  capitalLoss  \\\n",
       "0               0             1     4    1         2174            0   \n",
       "1               3             0     4    1            0            0   \n",
       "2               5             1     4    1            0            0   \n",
       "3               5             0     2    1            0            0   \n",
       "4               9             5     2    0            0            0   \n",
       "...           ...           ...   ...  ...          ...          ...   \n",
       "32556          12             5     4    0            0            0   \n",
       "32557           6             0     4    1            0            0   \n",
       "32558           0             4     4    0            0            0   \n",
       "32559           0             3     4    1            0            0   \n",
       "32560           3             5     4    0        15024            0   \n",
       "\n",
       "       hoursPerWeek  nativeCountry  salary  \n",
       "0                40             38       0  \n",
       "1                13             38       0  \n",
       "2                40             38       0  \n",
       "3                40             38       0  \n",
       "4                40              4       0  \n",
       "...             ...            ...     ...  \n",
       "32556            38             38       0  \n",
       "32557            40             38       1  \n",
       "32558            40             38       0  \n",
       "32559            20             38       0  \n",
       "32560            40             38       1  \n",
       "\n",
       "[30162 rows x 15 columns]"
      ]
     },
     "execution_count": 91,
     "metadata": {},
     "output_type": "execute_result"
    }
   ],
   "source": [
    "# Transforming the values of in the specificed columns of the DataFrame into integer labels.\n",
    "for column in colums_to_transform: training_df[column] = label_encoder.fit_transform(training_df[column])\n",
    "training_df"
   ]
  },
  {
   "cell_type": "code",
   "execution_count": null,
   "id": "a8500514",
   "metadata": {},
   "outputs": [],
   "source": []
  },
  {
   "cell_type": "markdown",
   "id": "55dc9927",
   "metadata": {},
   "source": [
    "# Data visualization"
   ]
  },
  {
   "cell_type": "markdown",
   "id": "5b3b152b",
   "metadata": {},
   "source": [
    "Applying data visualization technics to the dataset to determine which columns can be dropped in order to avoid overfitting the data by the model. "
   ]
  },
  {
   "cell_type": "code",
   "execution_count": 92,
   "id": "2ff04371",
   "metadata": {},
   "outputs": [
    {
     "data": {
      "text/plain": [
       "<Figure size 2000x1000 with 0 Axes>"
      ]
     },
     "execution_count": 92,
     "metadata": {},
     "output_type": "execute_result"
    },
    {
     "data": {
      "image/png": "[encoded data removed]",
      "text/plain": [
       "<Figure size 640x480 with 1 Axes>"
      ]
     },
     "metadata": {},
     "output_type": "display_data"
    },
    {
     "data": {
      "text/plain": [
       "<Figure size 2000x1000 with 0 Axes>"
      ]
     },
     "metadata": {},
     "output_type": "display_data"
    }
   ],
   "source": [
    "sns.countplot(x=\"salary\", data=training_df)\n",
    "plt.figure(figsize=(20,10))"
   ]
  },
  {
   "cell_type": "markdown",
   "id": "34e00af0",
   "metadata": {},
   "source": [
    "Running the distribution of thwe salary we can see that the data is scewed, hence we need to address it when it comes to the data preparation part, otherwise we can endup with a model that overfits the data."
   ]
  },
  {
   "cell_type": "code",
   "execution_count": 101,
   "id": "eb3006be",
   "metadata": {},
   "outputs": [
    {
     "data": {
      "image/png": "[encoded data removed]",
      "text/plain": [
       "<Figure size 1500x1000 with 1 Axes>"
      ]
     },
     "metadata": {},
     "output_type": "display_data"
    }
   ],
   "source": [
    "plt.figure(figsize = (15,10))\n",
    "sns.countplot(x = training_df_pre_transformation['workclass'])\n",
    "plt.show()"
   ]
  },
  {
   "cell_type": "markdown",
   "id": "07383368",
   "metadata": {},
   "source": [
    "Upon analyzing the survey data, it becomes apparent that a significant majority of the individuals in the dataset belong to the \"Private\" workclass category. This raises concerns about the representativeness of the data, as we have limited information on other types of workclasses. This skew in the data could potentially result in biased or incomplete conclusions if we make generalizations or assumptions based solely on this dataset without considering external factors or collecting more diverse data."
   ]
  },
  {
   "cell_type": "code",
   "execution_count": 100,
   "id": "0799fbf5",
   "metadata": {},
   "outputs": [
    {
     "data": {
      "image/png": "[encoded data removed]",
      "text/plain": [
       "<Figure size 1500x1000 with 1 Axes>"
      ]
     },
     "metadata": {},
     "output_type": "display_data"
    }
   ],
   "source": [
    "categorical_columns = list(training_df_pre_transformation.select_dtypes(include=['object']).columns)\n",
    "\n",
    "plt.figure(figsize = (15,10))\n",
    "sns.countplot(x = training_df_pre_transformation[categorical_columns[1]])\n",
    "plt.show()"
   ]
  },
  {
   "cell_type": "markdown",
   "id": "714e5c61",
   "metadata": {},
   "source": [
    "The graph is noteworthy because it reveals that the majority of respondents in the survey have educational backgrounds that fall into one of three categories: HS-grad, Bachelor's degree, or some college. This observation highlights the importance of considering the representativeness of the sample when making generalizations or drawing conclusions based on the survey data, as the educational backgrounds of the respondents may not be fully representative of the broader population."
   ]
  },
  {
   "cell_type": "code",
   "execution_count": 99,
   "id": "53bbb1e9",
   "metadata": {},
   "outputs": [
    {
     "data": {
      "image/png": "[encoded data removed]",
      "text/plain": [
       "<Figure size 1500x1000 with 1 Axes>"
      ]
     },
     "metadata": {},
     "output_type": "display_data"
    }
   ],
   "source": [
    "plt.figure(figsize = (15,10))\n",
    "sns.countplot(x = training_df_pre_transformation[categorical_columns[2]])\n",
    "plt.show()"
   ]
  },
  {
   "cell_type": "code",
   "execution_count": 102,
   "id": "7e087172",
   "metadata": {},
   "outputs": [
    {
     "data": {
      "text/plain": [
       " Married-civ-spouse       14976\n",
       " Never-married            10683\n",
       " Divorced                  4443\n",
       " Separated                 1025\n",
       " Widowed                    993\n",
       " Married-spouse-absent      418\n",
       " Married-AF-spouse           23\n",
       "Name: maritalStatus, dtype: int64"
      ]
     },
     "execution_count": 102,
     "metadata": {},
     "output_type": "execute_result"
    }
   ],
   "source": [
    "training_df_pre_transformation['maritalStatus'].value_counts()"
   ]
  },
  {
   "cell_type": "markdown",
   "id": "5f5050b4",
   "metadata": {},
   "source": [
    "According to the analysis of the relative frequencies of civil status in my dataset and those reported by the US Census Bureau, it seems that the distribution of civil status in my dataset is generally similar to that of the US population. The source of this information is the US Census Bureau, and the data is from 2020. Although this statment is drown for civil status only, excluding the age data which should be considered."
   ]
  },
  {
   "cell_type": "code",
   "execution_count": 103,
   "id": "55b679a2",
   "metadata": {},
   "outputs": [
    {
     "data": {
      "text/plain": [
       " United-States                 29170\n",
       " Mexico                          643\n",
       " ?                               583\n",
       " Philippines                     198\n",
       " Germany                         137\n",
       " Canada                          121\n",
       " Puerto-Rico                     114\n",
       " El-Salvador                     106\n",
       " India                           100\n",
       " Cuba                             95\n",
       " England                          90\n",
       " Jamaica                          81\n",
       " South                            80\n",
       " China                            75\n",
       " Italy                            73\n",
       " Dominican-Republic               70\n",
       " Vietnam                          67\n",
       " Guatemala                        64\n",
       " Japan                            62\n",
       " Poland                           60\n",
       " Columbia                         59\n",
       " Taiwan                           51\n",
       " Haiti                            44\n",
       " Iran                             43\n",
       " Portugal                         37\n",
       " Nicaragua                        34\n",
       " Peru                             31\n",
       " France                           29\n",
       " Greece                           29\n",
       " Ecuador                          28\n",
       " Ireland                          24\n",
       " Hong                             20\n",
       " Cambodia                         19\n",
       " Trinadad&Tobago                  19\n",
       " Laos                             18\n",
       " Thailand                         18\n",
       " Yugoslavia                       16\n",
       " Outlying-US(Guam-USVI-etc)       14\n",
       " Honduras                         13\n",
       " Hungary                          13\n",
       " Scotland                         12\n",
       " Holand-Netherlands                1\n",
       "Name: nativeCountry, dtype: int64"
      ]
     },
     "execution_count": 103,
     "metadata": {},
     "output_type": "execute_result"
    }
   ],
   "source": [
    "training_df_pre_transformation['nativeCountry'].value_counts()"
   ]
  },
  {
   "cell_type": "markdown",
   "id": "9eaa2525",
   "metadata": {},
   "source": [
    "From the distribution of the native country we can see that this data is only representative of the native population of us which is also complete"
   ]
  },
  {
   "cell_type": "code",
   "execution_count": null,
   "id": "3059700f",
   "metadata": {},
   "outputs": [],
   "source": []
  },
  {
   "cell_type": "code",
   "execution_count": null,
   "id": "f686c7a0",
   "metadata": {},
   "outputs": [],
   "source": []
  },
  {
   "cell_type": "code",
   "execution_count": 50,
   "id": "bd0ebfad",
   "metadata": {},
   "outputs": [
    {
     "data": {
      "image/png": "[encoded data removed]",
      "text/plain": [
       "<Figure size 3000x2000 with 6 Axes>"
      ]
     },
     "metadata": {},
     "output_type": "display_data"
    }
   ],
   "source": [
    "fig, ax = plt.subplots(nrows=2,ncols=3, figsize=(30,20))\n",
    "sns.countplot(x=\"sex\", data=training_df,hue=\"salary\",ax = ax[0][0])\n",
    "cp = sns.countplot(x=\"maritalStatus\", data=training_df,hue=\"salary\",ax = ax[0][1])\n",
    "cp.set_xticklabels(cp.get_xticklabels(), rotation=40, ha=\"right\")\n",
    "cp2 = sns.countplot(x=\"education\", data=training_df,hue=\"salary\",ax = ax[0][2])\n",
    "cp2.set_xticklabels(cp2.get_xticklabels(), rotation=40, ha=\"right\")\n",
    "cp3 = sns.countplot(x=\"race\", data=training_df,hue=\"salary\",ax = ax[1][0])\n",
    "cp3.set_xticklabels(cp3.get_xticklabels(), rotation=40, ha=\"right\")\n",
    "cp4 = sns.countplot(x=\"relationship\", data=training_df,hue=\"salary\", ax = ax[1][1])\n",
    "cp4.set_xticklabels(cp4.get_xticklabels(), rotation=40, ha=\"right\")\n",
    "cp5 = sns.countplot(x=\"occupation\", data=training_df,hue=\"salary\",ax= ax[1][2])\n",
    "cp5.set_xticklabels(cp5.get_xticklabels(), rotation=40, ha=\"right\")\n",
    "\n",
    "plt.tight_layout()"
   ]
  },
  {
   "cell_type": "code",
   "execution_count": null,
   "id": "9129dd4e",
   "metadata": {},
   "outputs": [],
   "source": []
  },
  {
   "cell_type": "code",
   "execution_count": null,
   "id": "c0e9f905",
   "metadata": {},
   "outputs": [],
   "source": []
  },
  {
   "cell_type": "code",
   "execution_count": null,
   "id": "a1465528",
   "metadata": {},
   "outputs": [],
   "source": []
  },
  {
   "cell_type": "code",
   "execution_count": null,
   "id": "7df0bc54",
   "metadata": {},
   "outputs": [],
   "source": []
  },
  {
   "cell_type": "code",
   "execution_count": null,
   "id": "b5cd5dc0",
   "metadata": {},
   "outputs": [],
   "source": []
  },
  {
   "cell_type": "code",
   "execution_count": null,
   "id": "30f97e8b",
   "metadata": {},
   "outputs": [],
   "source": []
  },
  {
   "cell_type": "code",
   "execution_count": null,
   "id": "e304888b",
   "metadata": {},
   "outputs": [],
   "source": []
  },
  {
   "cell_type": "code",
   "execution_count": null,
   "id": "d5763954",
   "metadata": {},
   "outputs": [],
   "source": []
  },
  {
   "cell_type": "code",
   "execution_count": null,
   "id": "ce84649c",
   "metadata": {},
   "outputs": [],
   "source": []
  },
  {
   "cell_type": "code",
   "execution_count": null,
   "id": "ae9dc3e1",
   "metadata": {},
   "outputs": [],
   "source": []
  },
  {
   "cell_type": "markdown",
   "id": "7c4bbcdf",
   "metadata": {},
   "source": [
    "### Testing dataset"
   ]
  },
  {
   "cell_type": "code",
   "execution_count": 19,
   "id": "ce635b7e",
   "metadata": {},
   "outputs": [
    {
     "data": {
      "text/html": [
       "<div>\n",
       "<style scoped>\n",
       "    .dataframe tbody tr th:only-of-type {\n",
       "        vertical-align: middle;\n",
       "    }\n",
       "\n",
       "    .dataframe tbody tr th {\n",
       "        vertical-align: top;\n",
       "    }\n",
       "\n",
       "    .dataframe thead th {\n",
       "        text-align: right;\n",
       "    }\n",
       "</style>\n",
       "<table border=\"1\" class=\"dataframe\">\n",
       "  <thead>\n",
       "    <tr style=\"text-align: right;\">\n",
       "      <th></th>\n",
       "      <th>age</th>\n",
       "      <th>workclass</th>\n",
       "      <th>fnlwgt</th>\n",
       "      <th>education</th>\n",
       "      <th>educationNum</th>\n",
       "      <th>maritalStatus</th>\n",
       "      <th>occupation</th>\n",
       "      <th>relationship</th>\n",
       "      <th>race</th>\n",
       "      <th>sex</th>\n",
       "      <th>capitalGain</th>\n",
       "      <th>capitalLoss</th>\n",
       "      <th>hoursPerWeek</th>\n",
       "      <th>nativeCountry</th>\n",
       "      <th>salary</th>\n",
       "    </tr>\n",
       "  </thead>\n",
       "  <tbody>\n",
       "    <tr>\n",
       "      <th>1</th>\n",
       "      <td>25</td>\n",
       "      <td>2</td>\n",
       "      <td>226802.0</td>\n",
       "      <td>1</td>\n",
       "      <td>7.0</td>\n",
       "      <td>4</td>\n",
       "      <td>6</td>\n",
       "      <td>3</td>\n",
       "      <td>2</td>\n",
       "      <td>1</td>\n",
       "      <td>0.0</td>\n",
       "      <td>0.0</td>\n",
       "      <td>40.0</td>\n",
       "      <td>37</td>\n",
       "      <td>0</td>\n",
       "    </tr>\n",
       "    <tr>\n",
       "      <th>2</th>\n",
       "      <td>38</td>\n",
       "      <td>2</td>\n",
       "      <td>89814.0</td>\n",
       "      <td>11</td>\n",
       "      <td>9.0</td>\n",
       "      <td>2</td>\n",
       "      <td>4</td>\n",
       "      <td>0</td>\n",
       "      <td>4</td>\n",
       "      <td>1</td>\n",
       "      <td>0.0</td>\n",
       "      <td>0.0</td>\n",
       "      <td>50.0</td>\n",
       "      <td>37</td>\n",
       "      <td>0</td>\n",
       "    </tr>\n",
       "    <tr>\n",
       "      <th>3</th>\n",
       "      <td>28</td>\n",
       "      <td>1</td>\n",
       "      <td>336951.0</td>\n",
       "      <td>7</td>\n",
       "      <td>12.0</td>\n",
       "      <td>2</td>\n",
       "      <td>10</td>\n",
       "      <td>0</td>\n",
       "      <td>4</td>\n",
       "      <td>1</td>\n",
       "      <td>0.0</td>\n",
       "      <td>0.0</td>\n",
       "      <td>40.0</td>\n",
       "      <td>37</td>\n",
       "      <td>1</td>\n",
       "    </tr>\n",
       "    <tr>\n",
       "      <th>4</th>\n",
       "      <td>44</td>\n",
       "      <td>2</td>\n",
       "      <td>160323.0</td>\n",
       "      <td>15</td>\n",
       "      <td>10.0</td>\n",
       "      <td>2</td>\n",
       "      <td>6</td>\n",
       "      <td>0</td>\n",
       "      <td>2</td>\n",
       "      <td>1</td>\n",
       "      <td>7688.0</td>\n",
       "      <td>0.0</td>\n",
       "      <td>40.0</td>\n",
       "      <td>37</td>\n",
       "      <td>1</td>\n",
       "    </tr>\n",
       "    <tr>\n",
       "      <th>6</th>\n",
       "      <td>34</td>\n",
       "      <td>2</td>\n",
       "      <td>198693.0</td>\n",
       "      <td>0</td>\n",
       "      <td>6.0</td>\n",
       "      <td>4</td>\n",
       "      <td>7</td>\n",
       "      <td>1</td>\n",
       "      <td>4</td>\n",
       "      <td>1</td>\n",
       "      <td>0.0</td>\n",
       "      <td>0.0</td>\n",
       "      <td>30.0</td>\n",
       "      <td>37</td>\n",
       "      <td>0</td>\n",
       "    </tr>\n",
       "    <tr>\n",
       "      <th>...</th>\n",
       "      <td>...</td>\n",
       "      <td>...</td>\n",
       "      <td>...</td>\n",
       "      <td>...</td>\n",
       "      <td>...</td>\n",
       "      <td>...</td>\n",
       "      <td>...</td>\n",
       "      <td>...</td>\n",
       "      <td>...</td>\n",
       "      <td>...</td>\n",
       "      <td>...</td>\n",
       "      <td>...</td>\n",
       "      <td>...</td>\n",
       "      <td>...</td>\n",
       "      <td>...</td>\n",
       "    </tr>\n",
       "    <tr>\n",
       "      <th>16276</th>\n",
       "      <td>33</td>\n",
       "      <td>2</td>\n",
       "      <td>245211.0</td>\n",
       "      <td>9</td>\n",
       "      <td>13.0</td>\n",
       "      <td>4</td>\n",
       "      <td>9</td>\n",
       "      <td>3</td>\n",
       "      <td>4</td>\n",
       "      <td>1</td>\n",
       "      <td>0.0</td>\n",
       "      <td>0.0</td>\n",
       "      <td>40.0</td>\n",
       "      <td>37</td>\n",
       "      <td>0</td>\n",
       "    </tr>\n",
       "    <tr>\n",
       "      <th>16277</th>\n",
       "      <td>39</td>\n",
       "      <td>2</td>\n",
       "      <td>215419.0</td>\n",
       "      <td>9</td>\n",
       "      <td>13.0</td>\n",
       "      <td>0</td>\n",
       "      <td>9</td>\n",
       "      <td>1</td>\n",
       "      <td>4</td>\n",
       "      <td>0</td>\n",
       "      <td>0.0</td>\n",
       "      <td>0.0</td>\n",
       "      <td>36.0</td>\n",
       "      <td>37</td>\n",
       "      <td>0</td>\n",
       "    </tr>\n",
       "    <tr>\n",
       "      <th>16279</th>\n",
       "      <td>38</td>\n",
       "      <td>2</td>\n",
       "      <td>374983.0</td>\n",
       "      <td>9</td>\n",
       "      <td>13.0</td>\n",
       "      <td>2</td>\n",
       "      <td>9</td>\n",
       "      <td>0</td>\n",
       "      <td>4</td>\n",
       "      <td>1</td>\n",
       "      <td>0.0</td>\n",
       "      <td>0.0</td>\n",
       "      <td>50.0</td>\n",
       "      <td>37</td>\n",
       "      <td>0</td>\n",
       "    </tr>\n",
       "    <tr>\n",
       "      <th>16280</th>\n",
       "      <td>44</td>\n",
       "      <td>2</td>\n",
       "      <td>83891.0</td>\n",
       "      <td>9</td>\n",
       "      <td>13.0</td>\n",
       "      <td>0</td>\n",
       "      <td>0</td>\n",
       "      <td>3</td>\n",
       "      <td>1</td>\n",
       "      <td>1</td>\n",
       "      <td>5455.0</td>\n",
       "      <td>0.0</td>\n",
       "      <td>40.0</td>\n",
       "      <td>37</td>\n",
       "      <td>0</td>\n",
       "    </tr>\n",
       "    <tr>\n",
       "      <th>16281</th>\n",
       "      <td>35</td>\n",
       "      <td>3</td>\n",
       "      <td>182148.0</td>\n",
       "      <td>9</td>\n",
       "      <td>13.0</td>\n",
       "      <td>2</td>\n",
       "      <td>3</td>\n",
       "      <td>0</td>\n",
       "      <td>4</td>\n",
       "      <td>1</td>\n",
       "      <td>0.0</td>\n",
       "      <td>0.0</td>\n",
       "      <td>60.0</td>\n",
       "      <td>37</td>\n",
       "      <td>1</td>\n",
       "    </tr>\n",
       "  </tbody>\n",
       "</table>\n",
       "<p>15060 rows × 15 columns</p>\n",
       "</div>"
      ],
      "text/plain": [
       "      age  workclass    fnlwgt  education  educationNum  maritalStatus  \\\n",
       "1      25          2  226802.0          1           7.0              4   \n",
       "2      38          2   89814.0         11           9.0              2   \n",
       "3      28          1  336951.0          7          12.0              2   \n",
       "4      44          2  160323.0         15          10.0              2   \n",
       "6      34          2  198693.0          0           6.0              4   \n",
       "...    ..        ...       ...        ...           ...            ...   \n",
       "16276  33          2  245211.0          9          13.0              4   \n",
       "16277  39          2  215419.0          9          13.0              0   \n",
       "16279  38          2  374983.0          9          13.0              2   \n",
       "16280  44          2   83891.0          9          13.0              0   \n",
       "16281  35          3  182148.0          9          13.0              2   \n",
       "\n",
       "       occupation  relationship  race  sex  capitalGain  capitalLoss  \\\n",
       "1               6             3     2    1          0.0          0.0   \n",
       "2               4             0     4    1          0.0          0.0   \n",
       "3              10             0     4    1          0.0          0.0   \n",
       "4               6             0     2    1       7688.0          0.0   \n",
       "6               7             1     4    1          0.0          0.0   \n",
       "...           ...           ...   ...  ...          ...          ...   \n",
       "16276           9             3     4    1          0.0          0.0   \n",
       "16277           9             1     4    0          0.0          0.0   \n",
       "16279           9             0     4    1          0.0          0.0   \n",
       "16280           0             3     1    1       5455.0          0.0   \n",
       "16281           3             0     4    1          0.0          0.0   \n",
       "\n",
       "       hoursPerWeek  nativeCountry  salary  \n",
       "1              40.0             37       0  \n",
       "2              50.0             37       0  \n",
       "3              40.0             37       1  \n",
       "4              40.0             37       1  \n",
       "6              30.0             37       0  \n",
       "...             ...            ...     ...  \n",
       "16276          40.0             37       0  \n",
       "16277          36.0             37       0  \n",
       "16279          50.0             37       0  \n",
       "16280          40.0             37       0  \n",
       "16281          60.0             37       1  \n",
       "\n",
       "[15060 rows x 15 columns]"
      ]
     },
     "execution_count": 19,
     "metadata": {},
     "output_type": "execute_result"
    }
   ],
   "source": [
    "# Transforming the values of in the specificed columns of the DataFrame into integer labels.\n",
    "for column in colums_to_transform: test_df[column] = label_encoder.fit_transform(test_df[column])\n",
    "test_df"
   ]
  },
  {
   "cell_type": "code",
   "execution_count": 20,
   "id": "7025aa4b",
   "metadata": {},
   "outputs": [
    {
     "data": {
      "text/html": [
       "<div>\n",
       "<style scoped>\n",
       "    .dataframe tbody tr th:only-of-type {\n",
       "        vertical-align: middle;\n",
       "    }\n",
       "\n",
       "    .dataframe tbody tr th {\n",
       "        vertical-align: top;\n",
       "    }\n",
       "\n",
       "    .dataframe thead th {\n",
       "        text-align: right;\n",
       "    }\n",
       "</style>\n",
       "<table border=\"1\" class=\"dataframe\">\n",
       "  <thead>\n",
       "    <tr style=\"text-align: right;\">\n",
       "      <th></th>\n",
       "      <th>age</th>\n",
       "      <th>workclass</th>\n",
       "      <th>educationNum</th>\n",
       "      <th>maritalStatus</th>\n",
       "      <th>occupation</th>\n",
       "      <th>relationship</th>\n",
       "      <th>race</th>\n",
       "      <th>sex</th>\n",
       "      <th>capitalGain</th>\n",
       "      <th>hoursPerWeek</th>\n",
       "      <th>salary</th>\n",
       "    </tr>\n",
       "  </thead>\n",
       "  <tbody>\n",
       "    <tr>\n",
       "      <th>0</th>\n",
       "      <td>39</td>\n",
       "      <td>5</td>\n",
       "      <td>13</td>\n",
       "      <td>4</td>\n",
       "      <td>0</td>\n",
       "      <td>1</td>\n",
       "      <td>4</td>\n",
       "      <td>1</td>\n",
       "      <td>2174</td>\n",
       "      <td>40</td>\n",
       "      <td>0</td>\n",
       "    </tr>\n",
       "    <tr>\n",
       "      <th>1</th>\n",
       "      <td>50</td>\n",
       "      <td>4</td>\n",
       "      <td>13</td>\n",
       "      <td>2</td>\n",
       "      <td>3</td>\n",
       "      <td>0</td>\n",
       "      <td>4</td>\n",
       "      <td>1</td>\n",
       "      <td>0</td>\n",
       "      <td>13</td>\n",
       "      <td>0</td>\n",
       "    </tr>\n",
       "    <tr>\n",
       "      <th>2</th>\n",
       "      <td>38</td>\n",
       "      <td>2</td>\n",
       "      <td>9</td>\n",
       "      <td>0</td>\n",
       "      <td>5</td>\n",
       "      <td>1</td>\n",
       "      <td>4</td>\n",
       "      <td>1</td>\n",
       "      <td>0</td>\n",
       "      <td>40</td>\n",
       "      <td>0</td>\n",
       "    </tr>\n",
       "    <tr>\n",
       "      <th>3</th>\n",
       "      <td>53</td>\n",
       "      <td>2</td>\n",
       "      <td>7</td>\n",
       "      <td>2</td>\n",
       "      <td>5</td>\n",
       "      <td>0</td>\n",
       "      <td>2</td>\n",
       "      <td>1</td>\n",
       "      <td>0</td>\n",
       "      <td>40</td>\n",
       "      <td>0</td>\n",
       "    </tr>\n",
       "    <tr>\n",
       "      <th>4</th>\n",
       "      <td>28</td>\n",
       "      <td>2</td>\n",
       "      <td>13</td>\n",
       "      <td>2</td>\n",
       "      <td>9</td>\n",
       "      <td>5</td>\n",
       "      <td>2</td>\n",
       "      <td>0</td>\n",
       "      <td>0</td>\n",
       "      <td>40</td>\n",
       "      <td>0</td>\n",
       "    </tr>\n",
       "    <tr>\n",
       "      <th>...</th>\n",
       "      <td>...</td>\n",
       "      <td>...</td>\n",
       "      <td>...</td>\n",
       "      <td>...</td>\n",
       "      <td>...</td>\n",
       "      <td>...</td>\n",
       "      <td>...</td>\n",
       "      <td>...</td>\n",
       "      <td>...</td>\n",
       "      <td>...</td>\n",
       "      <td>...</td>\n",
       "    </tr>\n",
       "    <tr>\n",
       "      <th>32556</th>\n",
       "      <td>27</td>\n",
       "      <td>2</td>\n",
       "      <td>12</td>\n",
       "      <td>2</td>\n",
       "      <td>12</td>\n",
       "      <td>5</td>\n",
       "      <td>4</td>\n",
       "      <td>0</td>\n",
       "      <td>0</td>\n",
       "      <td>38</td>\n",
       "      <td>0</td>\n",
       "    </tr>\n",
       "    <tr>\n",
       "      <th>32557</th>\n",
       "      <td>40</td>\n",
       "      <td>2</td>\n",
       "      <td>9</td>\n",
       "      <td>2</td>\n",
       "      <td>6</td>\n",
       "      <td>0</td>\n",
       "      <td>4</td>\n",
       "      <td>1</td>\n",
       "      <td>0</td>\n",
       "      <td>40</td>\n",
       "      <td>1</td>\n",
       "    </tr>\n",
       "    <tr>\n",
       "      <th>32558</th>\n",
       "      <td>58</td>\n",
       "      <td>2</td>\n",
       "      <td>9</td>\n",
       "      <td>6</td>\n",
       "      <td>0</td>\n",
       "      <td>4</td>\n",
       "      <td>4</td>\n",
       "      <td>0</td>\n",
       "      <td>0</td>\n",
       "      <td>40</td>\n",
       "      <td>0</td>\n",
       "    </tr>\n",
       "    <tr>\n",
       "      <th>32559</th>\n",
       "      <td>22</td>\n",
       "      <td>2</td>\n",
       "      <td>9</td>\n",
       "      <td>4</td>\n",
       "      <td>0</td>\n",
       "      <td>3</td>\n",
       "      <td>4</td>\n",
       "      <td>1</td>\n",
       "      <td>0</td>\n",
       "      <td>20</td>\n",
       "      <td>0</td>\n",
       "    </tr>\n",
       "    <tr>\n",
       "      <th>32560</th>\n",
       "      <td>52</td>\n",
       "      <td>3</td>\n",
       "      <td>9</td>\n",
       "      <td>2</td>\n",
       "      <td>3</td>\n",
       "      <td>5</td>\n",
       "      <td>4</td>\n",
       "      <td>0</td>\n",
       "      <td>15024</td>\n",
       "      <td>40</td>\n",
       "      <td>1</td>\n",
       "    </tr>\n",
       "  </tbody>\n",
       "</table>\n",
       "<p>30162 rows × 11 columns</p>\n",
       "</div>"
      ],
      "text/plain": [
       "       age  workclass  educationNum  maritalStatus  occupation  relationship  \\\n",
       "0       39          5            13              4           0             1   \n",
       "1       50          4            13              2           3             0   \n",
       "2       38          2             9              0           5             1   \n",
       "3       53          2             7              2           5             0   \n",
       "4       28          2            13              2           9             5   \n",
       "...    ...        ...           ...            ...         ...           ...   \n",
       "32556   27          2            12              2          12             5   \n",
       "32557   40          2             9              2           6             0   \n",
       "32558   58          2             9              6           0             4   \n",
       "32559   22          2             9              4           0             3   \n",
       "32560   52          3             9              2           3             5   \n",
       "\n",
       "       race  sex  capitalGain  hoursPerWeek  salary  \n",
       "0         4    1         2174            40       0  \n",
       "1         4    1            0            13       0  \n",
       "2         4    1            0            40       0  \n",
       "3         2    1            0            40       0  \n",
       "4         2    0            0            40       0  \n",
       "...     ...  ...          ...           ...     ...  \n",
       "32556     4    0            0            38       0  \n",
       "32557     4    1            0            40       1  \n",
       "32558     4    0            0            40       0  \n",
       "32559     4    1            0            20       0  \n",
       "32560     4    0        15024            40       1  \n",
       "\n",
       "[30162 rows x 11 columns]"
      ]
     },
     "execution_count": 20,
     "metadata": {},
     "output_type": "execute_result"
    }
   ],
   "source": [
    "#From the above correlation matrix remove the unneccesary column which have least significant correlation with the target varaible \"Income\n",
    "post_data_analysis_df = training_df.drop(['fnlwgt','education', 'capitalLoss','nativeCountry'],axis=1)\n",
    "post_data_analysis_df"
   ]
  },
  {
   "cell_type": "markdown",
   "id": "10f6b873",
   "metadata": {},
   "source": [
    "## Preparing for networking"
   ]
  },
  {
   "cell_type": "code",
   "execution_count": 39,
   "id": "39a1ee64",
   "metadata": {},
   "outputs": [],
   "source": [
    "#Import the required dependencies\n",
    "import numpy as np\n",
    "import keras\n",
    "from sklearn.model_selection import train_test_split\n",
    "from keras.layers import InputLayer\n",
    "from keras.models import Sequential\n",
    "from keras.layers import Dense,Dropout"
   ]
  },
  {
   "cell_type": "code",
   "execution_count": 36,
   "id": "40ea612f",
   "metadata": {},
   "outputs": [],
   "source": [
    "# Define X and Y\n",
    "X = post_data_analysis_df.drop(['salary'],axis = 1)\n",
    "y = post_data_analysis_df['salary']"
   ]
  },
  {
   "cell_type": "code",
   "execution_count": 331,
   "id": "646d8432",
   "metadata": {},
   "outputs": [
    {
     "name": "stdout",
     "output_type": "stream",
     "text": [
      "Train set shape: (16890, 10) (16890,)\n",
      "Validation set shape: (4223, 10) (4223,)\n",
      "Test set shape: (9049, 10) (9049,)\n"
     ]
    }
   ],
   "source": [
    "from sklearn.model_selection import train_test_split\n",
    "\n",
    "# Split the data into train and test sets\n",
    "X_train, X_test, y_train, y_test = train_test_split(X, y, test_size=0.3, random_state=30)\n",
    "\n",
    "# Split the train set into train and validation sets\n",
    "X_train, X_valid, y_train, y_valid = train_test_split(X_train, y_train, test_size=0.2, random_state=40)\n",
    "\n",
    "\n",
    "\n",
    "# Print the shapes of the resulting sets\n",
    "print(\"Train set shape:\", X_train.shape, y_train.shape)\n",
    "print(\"Validation set shape:\", X_valid.shape, y_valid.shape)\n",
    "print(\"Test set shape:\", X_test.shape, y_test.shape)"
   ]
  },
  {
   "cell_type": "markdown",
   "id": "f3e43e5b",
   "metadata": {},
   "source": [
    "## Network Try#1 "
   ]
  },
  {
   "cell_type": "code",
   "execution_count": 42,
   "id": "594e2c97",
   "metadata": {},
   "outputs": [
    {
     "name": "stdout",
     "output_type": "stream",
     "text": [
      "Train set shape: (16890, 10) (16890, 1)\n",
      "Validation set shape: (4223, 10) (4223,)\n",
      "Test set shape: (9049, 10) (9049, 1)\n"
     ]
    }
   ],
   "source": [
    "# Make a new variable to use on this model from the dataset\n",
    "nw1_X_train = X_train\n",
    "nw1_X_test = X_test\n",
    "nw1_X_valid = X_valid\n",
    "\n",
    "nw1_y_train = y_train\n",
    "nw1_y_test = y_test\n",
    "nw1_y_valid = y_valid\n",
    "\n",
    "# Print the shapes of the resulting sets\n",
    "print(\"Train set shape:\", nw1_X_train.shape, nw1_y_train.shape)\n",
    "print(\"Validation set shape:\", nw1_X_valid.shape, nw1_y_valid.shape)\n",
    "print(\"Test set shape:\", nw1_X_test.shape, nw1_y_test.shape)"
   ]
  },
  {
   "cell_type": "markdown",
   "id": "39152480",
   "metadata": {},
   "source": [
    "### Creating the neutral network   "
   ]
  },
  {
   "cell_type": "markdown",
   "id": "b65d1406",
   "metadata": {},
   "source": [
    "This code defines a neural network model using the Keras API in TensorFlow. In our case model is created as a Sequential() object, which means that the layers are added one after another in a sequence.\n",
    "\n",
    "The ReLU activation function is used in the hidden layers to introduce nonlinearity into the model, and the sigmoid activation function is used in the output layer to produce a probability value that can be used for binary classification tasks.\n",
    "\n",
    "Layer is followed by a dropout layer, this is a regularization technique used in deep neural networks to reduce overfitting by preventing complex co-adaptations on training data."
   ]
  },
  {
   "cell_type": "code",
   "execution_count": 159,
   "id": "d2e98b8f",
   "metadata": {},
   "outputs": [],
   "source": [
    "# Neural network\n",
    "nw1_model = Sequential()\n",
    "nw1_model.add(Dense(10, input_dim=10, activation='relu'))\n",
    "nw1_model.add(Dropout(0.1))\n",
    "nw1_model.add(Dense(10, activation='relu'))\n",
    "nw1_model.add(Dropout(0.1))\n",
    "nw1_model.add(Dense(10, activation='relu'))\n",
    "nw1_model.add(Dropout(0.1))\n",
    "nw1_model.add(Dense(10, activation='relu'))\n",
    "nw1_model.add(Dropout(0.1))\n",
    "nw1_model.add(Dense(1, activation='sigmoid'))"
   ]
  },
  {
   "cell_type": "code",
   "execution_count": 160,
   "id": "cca9e77e",
   "metadata": {},
   "outputs": [
    {
     "name": "stdout",
     "output_type": "stream",
     "text": [
      "Model: \"sequential_12\"\n",
      "_________________________________________________________________\n",
      " Layer (type)                Output Shape              Param #   \n",
      "=================================================================\n",
      " dense_54 (Dense)            (None, 10)                110       \n",
      "                                                                 \n",
      " dropout_24 (Dropout)        (None, 10)                0         \n",
      "                                                                 \n",
      " dense_55 (Dense)            (None, 10)                110       \n",
      "                                                                 \n",
      " dropout_25 (Dropout)        (None, 10)                0         \n",
      "                                                                 \n",
      " dense_56 (Dense)            (None, 10)                110       \n",
      "                                                                 \n",
      " dropout_26 (Dropout)        (None, 10)                0         \n",
      "                                                                 \n",
      " dense_57 (Dense)            (None, 10)                110       \n",
      "                                                                 \n",
      " dropout_27 (Dropout)        (None, 10)                0         \n",
      "                                                                 \n",
      " dense_58 (Dense)            (None, 1)                 11        \n",
      "                                                                 \n",
      "=================================================================\n",
      "Total params: 451\n",
      "Trainable params: 451\n",
      "Non-trainable params: 0\n",
      "_________________________________________________________________\n"
     ]
    }
   ],
   "source": [
    "nw1_model.compile(loss='binary_crossentropy', optimizer='adam', metrics=['accuracy'])\n",
    "nw1_model.summary()"
   ]
  },
  {
   "cell_type": "markdown",
   "id": "438ce525",
   "metadata": {},
   "source": [
    "### Training the model"
   ]
  },
  {
   "cell_type": "code",
   "execution_count": 161,
   "id": "f05ad6e6",
   "metadata": {},
   "outputs": [
    {
     "name": "stdout",
     "output_type": "stream",
     "text": [
      "Epoch 1/10\n",
      "34/34 [==============================] - 0s 490us/step - loss: 229.8343 - accuracy: 0.6770\n",
      "Epoch 2/10\n",
      "34/34 [==============================] - 0s 520us/step - loss: 93.6418 - accuracy: 0.5663\n",
      "Epoch 3/10\n",
      "34/34 [==============================] - 0s 480us/step - loss: 39.0328 - accuracy: 0.5593\n",
      "Epoch 4/10\n",
      "34/34 [==============================] - 0s 456us/step - loss: 17.7345 - accuracy: 0.6350\n",
      "Epoch 5/10\n",
      "34/34 [==============================] - 0s 453us/step - loss: 13.8910 - accuracy: 0.7023\n",
      "Epoch 6/10\n",
      "34/34 [==============================] - 0s 452us/step - loss: 12.3636 - accuracy: 0.7098\n",
      "Epoch 7/10\n",
      "34/34 [==============================] - 0s 454us/step - loss: 8.5543 - accuracy: 0.7212\n",
      "Epoch 8/10\n",
      "34/34 [==============================] - 0s 448us/step - loss: 6.6400 - accuracy: 0.7276\n",
      "Epoch 9/10\n",
      "34/34 [==============================] - 0s 452us/step - loss: 7.6531 - accuracy: 0.7290\n",
      "Epoch 10/10\n",
      "34/34 [==============================] - 0s 456us/step - loss: 4.9250 - accuracy: 0.7378\n"
     ]
    }
   ],
   "source": [
    "history = nw1_model.fit(X_train, y_train, epochs=10, batch_size=500)"
   ]
  },
  {
   "cell_type": "markdown",
   "id": "ebbf8078",
   "metadata": {},
   "source": [
    "### Evaluation of initial run"
   ]
  },
  {
   "cell_type": "code",
   "execution_count": 162,
   "id": "0955d966",
   "metadata": {},
   "outputs": [],
   "source": [
    "from sklearn.metrics import f1_score\n",
    "from sklearn.metrics import precision_score\n",
    "from sklearn.metrics import recall_score"
   ]
  },
  {
   "cell_type": "markdown",
   "id": "3df46d0e",
   "metadata": {},
   "source": [
    "By applying this threshold, the output predictions are converted into a binary format that is easier to interpret and use for further analysis, such as classification metrics like precision and recall."
   ]
  },
  {
   "cell_type": "markdown",
   "id": "8964a831",
   "metadata": {},
   "source": [
    "Here we have values to give a brief overview of how successfull is our trained model when tested with generated.\n",
    "\n",
    "Precission reflects pecentage of true positive as a fraction of all positive results.\n",
    "\n",
    "Recall, also known as sensitivity or true positive rate, measures the proportion of true positives out of all actual positives (positive cases in the ground truth). A high recall indicates that the model is correctly identifying positive cases and has a low rate of false negatives (predicted negative cases that are actually positive)\n",
    "\n",
    "The F1 score is the harmonic mean of precision and recall and ranges from 0 (worst) to 1 (best)."
   ]
  },
  {
   "cell_type": "code",
   "execution_count": 163,
   "id": "f1e0992d",
   "metadata": {},
   "outputs": [
    {
     "name": "stdout",
     "output_type": "stream",
     "text": [
      "283/283 [==============================] - 0s 208us/step\n",
      "Network 1\n",
      "Initial PrecisionScore: 0.3045977011494253\n",
      "Initial RecallScore: 0.8008888888888889\n",
      "Initial F1Score: 0.4413421503796228\n"
     ]
    }
   ],
   "source": [
    "# Applying threshold\n",
    "y_pred = nw1_model.predict(X_test)\n",
    "y_pred = (y_pred > 0.30)\n",
    "\n",
    "#Precission\n",
    "nw1_initial_precision = precision_score(y_test, y_pred)\n",
    "\n",
    "#Recall\n",
    "nw1_initial_recall_score = recall_score(y_test, y_pred)\n",
    "\n",
    "#F1-score\n",
    "nw1_initial_f1_score = f1_score(y_test, y_pred)\n",
    "\n",
    "print(\"Network 1\")\n",
    "print(\"Initial PrecisionScore:\", nw1_initial_precision)\n",
    "print(\"Initial RecallScore:\", nw1_initial_recall_score)\n",
    "print(\"Initial F1Score:\", nw1_initial_f1_score)"
   ]
  },
  {
   "cell_type": "code",
   "execution_count": 176,
   "id": "a2091aa6",
   "metadata": {},
   "outputs": [
    {
     "name": "stdout",
     "output_type": "stream",
     "text": [
      "INFO:tensorflow:Assets written to: network1_adult_data/assets\n"
     ]
    }
   ],
   "source": [
    "# Save the model.\n",
    "nw1_model.save(\"network1_adult_data\")"
   ]
  },
  {
   "cell_type": "markdown",
   "id": "8199d1ea",
   "metadata": {},
   "source": [
    "### Fine tuning"
   ]
  },
  {
   "cell_type": "code",
   "execution_count": null,
   "id": "cb699e10",
   "metadata": {},
   "outputs": [],
   "source": []
  },
  {
   "cell_type": "markdown",
   "id": "b4e1f979",
   "metadata": {},
   "source": [
    "### Evaluation of fine tuning"
   ]
  },
  {
   "cell_type": "code",
   "execution_count": null,
   "id": "8fc5ac8e",
   "metadata": {},
   "outputs": [],
   "source": []
  },
  {
   "cell_type": "markdown",
   "id": "c26c5995",
   "metadata": {},
   "source": [
    "## Network Try#2"
   ]
  },
  {
   "cell_type": "markdown",
   "id": "72efdf6f",
   "metadata": {},
   "source": [
    "### Creating the neutral network   "
   ]
  },
  {
   "cell_type": "code",
   "execution_count": 133,
   "id": "945a38e4",
   "metadata": {},
   "outputs": [],
   "source": [
    "nw2_model = keras.models.Sequential()\n",
    "# Neural network\n",
    "nw2_model.add(Dense(10, input_dim=10, activation='relu'))\n",
    "nw2_model.add(Dropout(0.1))\n",
    "nw2_model.add(Dense(10, activation='relu'))\n",
    "nw2_model.add(Dropout(0.1))\n",
    "nw2_model.add(Dense(10, activation='relu'))\n",
    "nw2_model.add(Dropout(0.1))\n",
    "nw2_model.add(Dense(10, activation='relu'))\n",
    "nw2_model.add(Dropout(0.1))\n",
    "nw2_model.add(Dense(1, activation='sigmoid'))"
   ]
  },
  {
   "cell_type": "code",
   "execution_count": 144,
   "id": "dd97a74f",
   "metadata": {},
   "outputs": [
    {
     "name": "stdout",
     "output_type": "stream",
     "text": [
      "Model: \"sequential_11\"\n",
      "_________________________________________________________________\n",
      " Layer (type)                Output Shape              Param #   \n",
      "=================================================================\n",
      " dense_49 (Dense)            (None, 10)                110       \n",
      "                                                                 \n",
      " dropout_20 (Dropout)        (None, 10)                0         \n",
      "                                                                 \n",
      " dense_50 (Dense)            (None, 10)                110       \n",
      "                                                                 \n",
      " dropout_21 (Dropout)        (None, 10)                0         \n",
      "                                                                 \n",
      " dense_51 (Dense)            (None, 10)                110       \n",
      "                                                                 \n",
      " dropout_22 (Dropout)        (None, 10)                0         \n",
      "                                                                 \n",
      " dense_52 (Dense)            (None, 10)                110       \n",
      "                                                                 \n",
      " dropout_23 (Dropout)        (None, 10)                0         \n",
      "                                                                 \n",
      " dense_53 (Dense)            (None, 1)                 11        \n",
      "                                                                 \n",
      "=================================================================\n",
      "Total params: 451\n",
      "Trainable params: 451\n",
      "Non-trainable params: 0\n",
      "_________________________________________________________________\n"
     ]
    }
   ],
   "source": [
    "nw2_model.compile(loss='binary_crossentropy', optimizer='adam', metrics=['accuracy'])\n",
    "nw2_model.summary()"
   ]
  },
  {
   "cell_type": "markdown",
   "id": "f150cab6",
   "metadata": {},
   "source": [
    "### Creating and setting the log directory"
   ]
  },
  {
   "cell_type": "code",
   "execution_count": 166,
   "id": "87cc4b4e",
   "metadata": {},
   "outputs": [],
   "source": [
    "# Define the root log directory.\n",
    "root_logdir = os.path.join(os.curdir, \"network2_logs\")"
   ]
  },
  {
   "cell_type": "code",
   "execution_count": 167,
   "id": "8ef6d5f7",
   "metadata": {},
   "outputs": [
    {
     "data": {
      "text/plain": [
       "'./network2_logs/run_2023_03_20-19_02_50'"
      ]
     },
     "execution_count": 167,
     "metadata": {},
     "output_type": "execute_result"
    }
   ],
   "source": [
    "# Create a function that will generate a subdirectory path based on the current date and time\n",
    "# (this information must be passed to the TensorBoard callback as an argument)\n",
    "def get_run_logdir():\n",
    "    import time\n",
    "    run_id = time.strftime(\"run_%Y_%m_%d-%H_%M_%S\")\n",
    "    return os.path.join(root_logdir, run_id)\n",
    "\n",
    "run_logdir = get_run_logdir()\n",
    "run_logdir"
   ]
  },
  {
   "cell_type": "markdown",
   "id": "9f95a91b",
   "metadata": {},
   "source": [
    "### Setting callsbacks"
   ]
  },
  {
   "cell_type": "code",
   "execution_count": 168,
   "id": "dae11f10",
   "metadata": {},
   "outputs": [],
   "source": [
    "# Define callbacks.\n",
    "\n",
    "# ModelCheckpoint.\n",
    "checkpoint_cb = keras.callbacks.ModelCheckpoint(\"network2_adult_data\", save_best_only=True)\n",
    "\n",
    "# EarlyStopping (with rollback to the best model).\n",
    "early_stopping_cb = keras.callbacks.EarlyStopping(patience=5, restore_best_weights=True)\n",
    "\n",
    "#TensorBoard.\n",
    "tensorboard_cb = keras.callbacks.TensorBoard(run_logdir)"
   ]
  },
  {
   "cell_type": "markdown",
   "id": "a322f0e2",
   "metadata": {},
   "source": [
    "### Training the model"
   ]
  },
  {
   "cell_type": "code",
   "execution_count": 169,
   "id": "3ac206fb",
   "metadata": {},
   "outputs": [
    {
     "name": "stdout",
     "output_type": "stream",
     "text": [
      "Epoch 1/40\n",
      "494/528 [===========================>..] - ETA: 0s - loss: 0.4101 - accuracy: 0.8072INFO:tensorflow:Assets written to: network2_adult_data/assets\n",
      "528/528 [==============================] - 0s 886us/step - loss: 0.4097 - accuracy: 0.8066 - val_loss: 0.3752 - val_accuracy: 0.8361\n",
      "Epoch 2/40\n",
      "510/528 [===========================>..] - ETA: 0s - loss: 0.4023 - accuracy: 0.8079INFO:tensorflow:Assets written to: network2_adult_data/assets\n",
      "528/528 [==============================] - 0s 860us/step - loss: 0.4027 - accuracy: 0.8080 - val_loss: 0.3743 - val_accuracy: 0.8293\n",
      "Epoch 3/40\n",
      "520/528 [============================>.] - ETA: 0s - loss: 0.4043 - accuracy: 0.8069INFO:tensorflow:Assets written to: network2_adult_data/assets\n",
      "528/528 [==============================] - 0s 851us/step - loss: 0.4040 - accuracy: 0.8071 - val_loss: 0.3736 - val_accuracy: 0.8326\n",
      "Epoch 4/40\n",
      "528/528 [==============================] - 0s 355us/step - loss: 0.4165 - accuracy: 0.8099 - val_loss: 0.3782 - val_accuracy: 0.8335\n",
      "Epoch 5/40\n",
      "528/528 [==============================] - 0s 355us/step - loss: 0.4026 - accuracy: 0.8121 - val_loss: 0.3813 - val_accuracy: 0.8188\n",
      "Epoch 6/40\n",
      "528/528 [==============================] - 0s 355us/step - loss: 0.4053 - accuracy: 0.8102 - val_loss: 0.3745 - val_accuracy: 0.8366\n",
      "Epoch 7/40\n",
      "528/528 [==============================] - 0s 357us/step - loss: 0.4007 - accuracy: 0.8136 - val_loss: 0.3759 - val_accuracy: 0.8347\n",
      "Epoch 8/40\n",
      "528/528 [==============================] - 0s 356us/step - loss: 0.4046 - accuracy: 0.8133 - val_loss: 0.3756 - val_accuracy: 0.8333\n"
     ]
    }
   ],
   "source": [
    "# Train the model with callbacks\n",
    "history = nw2_model.fit(X_train, y_train, epochs=40,\n",
    "                    validation_data=(X_valid, y_valid),\n",
    "                    callbacks=[checkpoint_cb, early_stopping_cb, tensorboard_cb])"
   ]
  },
  {
   "cell_type": "markdown",
   "id": "1a0dc9d3",
   "metadata": {},
   "source": [
    "### Evaluation of the initial run"
   ]
  },
  {
   "cell_type": "code",
   "execution_count": 170,
   "id": "11065fc1",
   "metadata": {},
   "outputs": [
    {
     "name": "stdout",
     "output_type": "stream",
     "text": [
      "283/283 [==============================] - 0s 216us/step - loss: 0.3807 - accuracy: 0.8269\n"
     ]
    },
    {
     "data": {
      "text/plain": [
       "[0.380746066570282, 0.8269422054290771]"
      ]
     },
     "execution_count": 170,
     "metadata": {},
     "output_type": "execute_result"
    }
   ],
   "source": [
    "nw2_model.evaluate(X_test, y_test)"
   ]
  },
  {
   "cell_type": "code",
   "execution_count": 171,
   "id": "8a65686f",
   "metadata": {},
   "outputs": [
    {
     "name": "stdout",
     "output_type": "stream",
     "text": [
      "283/283 [==============================] - 0s 190us/step\n"
     ]
    }
   ],
   "source": [
    "# Applying threshold\n",
    "y_pred = nw2_model.predict(X_test)\n",
    "y_pred = (y_pred > 0.30)"
   ]
  },
  {
   "cell_type": "code",
   "execution_count": 172,
   "id": "839b49fb",
   "metadata": {},
   "outputs": [
    {
     "name": "stdout",
     "output_type": "stream",
     "text": [
      "Network 2\n",
      "Initial PrecisionScore: 0.5800524934383202\n",
      "Initial RecallScore: 0.8008888888888889\n",
      "Initial F1Score: 0.6292454748830588\n"
     ]
    }
   ],
   "source": [
    "#Precission\n",
    "nw2_initial_precision = precision_score(y_test, y_pred)\n",
    "\n",
    "#Recall\n",
    "nw2_initial_recall_score = recall_score(y_test, y_pred)\n",
    "\n",
    "#F1-score\n",
    "nw2_initial_f1_score = f1_score(y_test, y_pred)\n",
    "\n",
    "print(\"Network 2\")\n",
    "print(\"Initial PrecisionScore:\", nw2_initial_precision)\n",
    "print(\"Initial RecallScore:\", nw2_initial_recall_score)\n",
    "print(\"Initial F1Score:\", nw2_initial_f1_score)"
   ]
  },
  {
   "cell_type": "code",
   "execution_count": 174,
   "id": "d923dd7b",
   "metadata": {},
   "outputs": [
    {
     "name": "stdout",
     "output_type": "stream",
     "text": [
      "The tensorboard extension is already loaded. To reload it, use:\n",
      "  %reload_ext tensorboard\n"
     ]
    },
    {
     "data": {
      "text/plain": [
       "ERROR: Failed to launch TensorBoard (exited with 255).\n",
       "Contents of stderr:\n",
       "NOTE: Using experimental fast data loading logic. To disable, pass\n",
       "    \"--load_fast=false\" and report issues on GitHub. More details:\n",
       "    https://github.com/tensorflow/tensorboard/issues/4784\n",
       "\n",
       "E0320 19:03:03.871382 8154768640 program.py:298] TensorBoard could not bind to port 6006, it was already in use\n",
       "ERROR: TensorBoard could not bind to port 6006, it was already in use"
      ]
     },
     "metadata": {},
     "output_type": "display_data"
    }
   ],
   "source": [
    "# Load the TensorBoard extension in the Jupyter notebook\n",
    "%load_ext tensorboard\n",
    "\n",
    "# Start the TensorBoard server, and view inside the notebook.\n",
    "%tensorboard --logdir=./network2_logs --port=6006"
   ]
  },
  {
   "cell_type": "markdown",
   "id": "6b059634",
   "metadata": {},
   "source": [
    "### Saving the model"
   ]
  },
  {
   "cell_type": "code",
   "execution_count": 175,
   "id": "4380fb88",
   "metadata": {},
   "outputs": [
    {
     "name": "stdout",
     "output_type": "stream",
     "text": [
      "INFO:tensorflow:Assets written to: network2_adult_data/assets\n"
     ]
    }
   ],
   "source": [
    "# Save the model.\n",
    "nw2_model.save(\"network2_adult_data\")"
   ]
  },
  {
   "cell_type": "markdown",
   "id": "95377755",
   "metadata": {},
   "source": [
    "### Fine tuning"
   ]
  },
  {
   "cell_type": "markdown",
   "id": "8c57e06b",
   "metadata": {},
   "source": [
    "### Evaluation of the fine tuning"
   ]
  },
  {
   "cell_type": "markdown",
   "id": "48baf43f",
   "metadata": {},
   "source": [
    "## Network Try#3"
   ]
  },
  {
   "cell_type": "markdown",
   "id": "ca0ccaeb",
   "metadata": {},
   "source": [
    "### Creating neural network"
   ]
  },
  {
   "cell_type": "code",
   "execution_count": 227,
   "id": "478227f2",
   "metadata": {},
   "outputs": [],
   "source": [
    "# Create a function that builds, compiles and returns a Keras model.\n",
    "# Note that the function takes a HyperParameters object (hp) as a parameter, which it can\n",
    "# use to define hyperparameters along with their range of possible values.\n",
    "import keras_tuner as kt\n",
    "\n",
    "def build_model(hp):\n",
    "    n_hidden = hp.Int(\"n_hidden\", min_value=0, max_value=8, default=2)\n",
    "    n_neurons = hp.Int(\"n_neurons\", min_value=16, max_value=256)\n",
    "    learning_rate = hp.Float(\"learning_rate\", min_value=1e-4, max_value=1e-2,\n",
    "                             sampling=\"log\")\n",
    "    optimizer = tf.keras.optimizers.SGD(learning_rate=learning_rate)\n",
    "    nw3_model = tf.keras.Sequential()\n",
    "    nw3_model.add(tf.keras.layers.Flatten())\n",
    "    for _ in range(n_hidden):\n",
    "        nw3_model.add(tf.keras.layers.Dense(n_neurons, activation=\"relu\"))\n",
    "    nw3_model.add(tf.keras.layers.Dense(10, activation=\"softmax\"))\n",
    "    \n",
    "    \n",
    "    nw3_model.compile(loss=\"sparse_categorical_crossentropy\", optimizer=optimizer,\n",
    "                  metrics=[\"accuracy\"])\n",
    "    return nw3_model"
   ]
  },
  {
   "cell_type": "markdown",
   "id": "3d7a907e",
   "metadata": {},
   "source": [
    "### Training the model"
   ]
  },
  {
   "cell_type": "markdown",
   "id": "72fbc112",
   "metadata": {},
   "source": [
    "Now comes the part where neural network is going through the process of learning.\n",
    "\n",
    "RandomSearch() method provided by Keras_tuner library in conjunction with search() execute multiple runs limited by the max_trials number."
   ]
  },
  {
   "cell_type": "code",
   "execution_count": 228,
   "id": "f4cfee6f",
   "metadata": {},
   "outputs": [
    {
     "name": "stdout",
     "output_type": "stream",
     "text": [
      "Trial 2 Complete [00h 00m 02s]\n",
      "val_accuracy: 0.7648590803146362\n",
      "\n",
      "Best val_accuracy So Far: 0.7811982035636902\n",
      "Total elapsed time: 00h 00m 03s\n",
      "INFO:tensorflow:Oracle triggered exit\n"
     ]
    }
   ],
   "source": [
    "# Use KerasTuner RandomSearch to tune hyperparameters\n",
    "random_search_tuner = kt.RandomSearch(\n",
    "    build_model, objective=\"val_accuracy\", max_trials=2, overwrite=True,\n",
    "    directory=\"my_mnist\", project_name=\"my_rnd_search\", seed=42)\n",
    "\n",
    "random_search_tuner.search(X_train, y_train, epochs=5, validation_data=(X_valid, y_valid))"
   ]
  },
  {
   "cell_type": "markdown",
   "id": "581d6dce",
   "metadata": {},
   "source": [
    "### Evaluation of the initial run"
   ]
  },
  {
   "cell_type": "code",
   "execution_count": null,
   "id": "c4603a67",
   "metadata": {},
   "outputs": [],
   "source": []
  },
  {
   "cell_type": "code",
   "execution_count": 232,
   "id": "95512dda",
   "metadata": {},
   "outputs": [
    {
     "name": "stdout",
     "output_type": "stream",
     "text": [
      "Trial summary\n",
      "Hyperparameters:\n",
      "n_hidden: 5\n",
      "n_neurons: 25\n",
      "learning_rate: 0.0006562536901904111\n",
      "Score: 0.7811982035636902\n"
     ]
    }
   ],
   "source": [
    "# Display a summary of the best model:\n",
    "best_trial = random_search_tuner.oracle.get_best_trials(num_trials=1)[0]\n",
    "best_trial.summary()"
   ]
  },
  {
   "cell_type": "code",
   "execution_count": 233,
   "id": "feff2928",
   "metadata": {},
   "outputs": [
    {
     "data": {
      "text/plain": [
       "0.7811982035636902"
      ]
     },
     "execution_count": 233,
     "metadata": {},
     "output_type": "execute_result"
    }
   ],
   "source": [
    "# Display the best model's accuracy measured on the validation set:\n",
    "best_trial.metrics.get_last_value(\"val_accuracy\")"
   ]
  },
  {
   "cell_type": "code",
   "execution_count": 234,
   "id": "9a7ebf83",
   "metadata": {},
   "outputs": [
    {
     "name": "stdout",
     "output_type": "stream",
     "text": [
      "283/283 [==============================] - 0s 247us/step - loss: 0.5066 - accuracy: 0.7729\n"
     ]
    }
   ],
   "source": [
    "# Evaluate the model's accuracy on the test set:\n",
    "best_model = random_search_tuner.get_best_models(num_models=1)[0]\n",
    "test_loss, test_accuracy = best_model.evaluate(X_test, y_test)"
   ]
  },
  {
   "cell_type": "code",
   "execution_count": 235,
   "id": "53ff9adc",
   "metadata": {},
   "outputs": [
    {
     "name": "stdout",
     "output_type": "stream",
     "text": [
      "283/283 [==============================] - 0s 230us/step - loss: 0.5066 - accuracy: 0.7729\n"
     ]
    },
    {
     "data": {
      "text/plain": [
       "[0.5065889358520508, 0.7729030847549438]"
      ]
     },
     "execution_count": 235,
     "metadata": {},
     "output_type": "execute_result"
    }
   ],
   "source": [
    "best_model.evaluate(X_test, y_test)"
   ]
  },
  {
   "cell_type": "code",
   "execution_count": 236,
   "id": "e68ec68e",
   "metadata": {},
   "outputs": [
    {
     "name": "stdout",
     "output_type": "stream",
     "text": [
      "283/283 [==============================] - 0s 201us/step\n"
     ]
    }
   ],
   "source": [
    "# Applying threshold\n",
    "y_pred = best_model.predict(X_test)\n",
    "y_pred = (y_pred > 0.30)"
   ]
  },
  {
   "cell_type": "code",
   "execution_count": 237,
   "id": "b12110b1",
   "metadata": {},
   "outputs": [
    {
     "ename": "ValueError",
     "evalue": "Classification metrics can't handle a mix of binary and multilabel-indicator targets",
     "output_type": "error",
     "traceback": [
      "\u001b[0;31m---------------------------------------------------------------------------\u001b[0m",
      "\u001b[0;31mValueError\u001b[0m                                Traceback (most recent call last)",
      "Cell \u001b[0;32mIn[237], line 2\u001b[0m\n\u001b[1;32m      1\u001b[0m \u001b[38;5;66;03m#Precission\u001b[39;00m\n\u001b[0;32m----> 2\u001b[0m nw3_initial_precision \u001b[38;5;241m=\u001b[39m \u001b[43mprecision_score\u001b[49m\u001b[43m(\u001b[49m\u001b[43my_test\u001b[49m\u001b[43m,\u001b[49m\u001b[43m \u001b[49m\u001b[43my_pred\u001b[49m\u001b[43m)\u001b[49m\n\u001b[1;32m      4\u001b[0m \u001b[38;5;66;03m#Recall\u001b[39;00m\n\u001b[1;32m      5\u001b[0m nw3_initial_recall_score \u001b[38;5;241m=\u001b[39m recall_score(y_test, y_pred)\n",
      "File \u001b[0;32m/opt/homebrew/Caskroom/miniconda/base/lib/python3.10/site-packages/sklearn/metrics/_classification.py:1954\u001b[0m, in \u001b[0;36mprecision_score\u001b[0;34m(y_true, y_pred, labels, pos_label, average, sample_weight, zero_division)\u001b[0m\n\u001b[1;32m   1825\u001b[0m \u001b[38;5;28;01mdef\u001b[39;00m \u001b[38;5;21mprecision_score\u001b[39m(\n\u001b[1;32m   1826\u001b[0m     y_true,\n\u001b[1;32m   1827\u001b[0m     y_pred,\n\u001b[0;32m   (...)\u001b[0m\n\u001b[1;32m   1833\u001b[0m     zero_division\u001b[38;5;241m=\u001b[39m\u001b[38;5;124m\"\u001b[39m\u001b[38;5;124mwarn\u001b[39m\u001b[38;5;124m\"\u001b[39m,\n\u001b[1;32m   1834\u001b[0m ):\n\u001b[1;32m   1835\u001b[0m     \u001b[38;5;124;03m\"\"\"Compute the precision.\u001b[39;00m\n\u001b[1;32m   1836\u001b[0m \n\u001b[1;32m   1837\u001b[0m \u001b[38;5;124;03m    The precision is the ratio ``tp / (tp + fp)`` where ``tp`` is the number of\u001b[39;00m\n\u001b[0;32m   (...)\u001b[0m\n\u001b[1;32m   1952\u001b[0m \u001b[38;5;124;03m    array([0.5, 1. , 1. ])\u001b[39;00m\n\u001b[1;32m   1953\u001b[0m \u001b[38;5;124;03m    \"\"\"\u001b[39;00m\n\u001b[0;32m-> 1954\u001b[0m     p, _, _, _ \u001b[38;5;241m=\u001b[39m \u001b[43mprecision_recall_fscore_support\u001b[49m\u001b[43m(\u001b[49m\n\u001b[1;32m   1955\u001b[0m \u001b[43m        \u001b[49m\u001b[43my_true\u001b[49m\u001b[43m,\u001b[49m\n\u001b[1;32m   1956\u001b[0m \u001b[43m        \u001b[49m\u001b[43my_pred\u001b[49m\u001b[43m,\u001b[49m\n\u001b[1;32m   1957\u001b[0m \u001b[43m        \u001b[49m\u001b[43mlabels\u001b[49m\u001b[38;5;241;43m=\u001b[39;49m\u001b[43mlabels\u001b[49m\u001b[43m,\u001b[49m\n\u001b[1;32m   1958\u001b[0m \u001b[43m        \u001b[49m\u001b[43mpos_label\u001b[49m\u001b[38;5;241;43m=\u001b[39;49m\u001b[43mpos_label\u001b[49m\u001b[43m,\u001b[49m\n\u001b[1;32m   1959\u001b[0m \u001b[43m        \u001b[49m\u001b[43maverage\u001b[49m\u001b[38;5;241;43m=\u001b[39;49m\u001b[43maverage\u001b[49m\u001b[43m,\u001b[49m\n\u001b[1;32m   1960\u001b[0m \u001b[43m        \u001b[49m\u001b[43mwarn_for\u001b[49m\u001b[38;5;241;43m=\u001b[39;49m\u001b[43m(\u001b[49m\u001b[38;5;124;43m\"\u001b[39;49m\u001b[38;5;124;43mprecision\u001b[39;49m\u001b[38;5;124;43m\"\u001b[39;49m\u001b[43m,\u001b[49m\u001b[43m)\u001b[49m\u001b[43m,\u001b[49m\n\u001b[1;32m   1961\u001b[0m \u001b[43m        \u001b[49m\u001b[43msample_weight\u001b[49m\u001b[38;5;241;43m=\u001b[39;49m\u001b[43msample_weight\u001b[49m\u001b[43m,\u001b[49m\n\u001b[1;32m   1962\u001b[0m \u001b[43m        \u001b[49m\u001b[43mzero_division\u001b[49m\u001b[38;5;241;43m=\u001b[39;49m\u001b[43mzero_division\u001b[49m\u001b[43m,\u001b[49m\n\u001b[1;32m   1963\u001b[0m \u001b[43m    \u001b[49m\u001b[43m)\u001b[49m\n\u001b[1;32m   1964\u001b[0m     \u001b[38;5;28;01mreturn\u001b[39;00m p\n",
      "File \u001b[0;32m/opt/homebrew/Caskroom/miniconda/base/lib/python3.10/site-packages/sklearn/metrics/_classification.py:1573\u001b[0m, in \u001b[0;36mprecision_recall_fscore_support\u001b[0;34m(y_true, y_pred, beta, labels, pos_label, average, warn_for, sample_weight, zero_division)\u001b[0m\n\u001b[1;32m   1571\u001b[0m \u001b[38;5;28;01mif\u001b[39;00m beta \u001b[38;5;241m<\u001b[39m \u001b[38;5;241m0\u001b[39m:\n\u001b[1;32m   1572\u001b[0m     \u001b[38;5;28;01mraise\u001b[39;00m \u001b[38;5;167;01mValueError\u001b[39;00m(\u001b[38;5;124m\"\u001b[39m\u001b[38;5;124mbeta should be >=0 in the F-beta score\u001b[39m\u001b[38;5;124m\"\u001b[39m)\n\u001b[0;32m-> 1573\u001b[0m labels \u001b[38;5;241m=\u001b[39m \u001b[43m_check_set_wise_labels\u001b[49m\u001b[43m(\u001b[49m\u001b[43my_true\u001b[49m\u001b[43m,\u001b[49m\u001b[43m \u001b[49m\u001b[43my_pred\u001b[49m\u001b[43m,\u001b[49m\u001b[43m \u001b[49m\u001b[43maverage\u001b[49m\u001b[43m,\u001b[49m\u001b[43m \u001b[49m\u001b[43mlabels\u001b[49m\u001b[43m,\u001b[49m\u001b[43m \u001b[49m\u001b[43mpos_label\u001b[49m\u001b[43m)\u001b[49m\n\u001b[1;32m   1575\u001b[0m \u001b[38;5;66;03m# Calculate tp_sum, pred_sum, true_sum ###\u001b[39;00m\n\u001b[1;32m   1576\u001b[0m samplewise \u001b[38;5;241m=\u001b[39m average \u001b[38;5;241m==\u001b[39m \u001b[38;5;124m\"\u001b[39m\u001b[38;5;124msamples\u001b[39m\u001b[38;5;124m\"\u001b[39m\n",
      "File \u001b[0;32m/opt/homebrew/Caskroom/miniconda/base/lib/python3.10/site-packages/sklearn/metrics/_classification.py:1374\u001b[0m, in \u001b[0;36m_check_set_wise_labels\u001b[0;34m(y_true, y_pred, average, labels, pos_label)\u001b[0m\n\u001b[1;32m   1371\u001b[0m \u001b[38;5;28;01mif\u001b[39;00m average \u001b[38;5;129;01mnot\u001b[39;00m \u001b[38;5;129;01min\u001b[39;00m average_options \u001b[38;5;129;01mand\u001b[39;00m average \u001b[38;5;241m!=\u001b[39m \u001b[38;5;124m\"\u001b[39m\u001b[38;5;124mbinary\u001b[39m\u001b[38;5;124m\"\u001b[39m:\n\u001b[1;32m   1372\u001b[0m     \u001b[38;5;28;01mraise\u001b[39;00m \u001b[38;5;167;01mValueError\u001b[39;00m(\u001b[38;5;124m\"\u001b[39m\u001b[38;5;124maverage has to be one of \u001b[39m\u001b[38;5;124m\"\u001b[39m \u001b[38;5;241m+\u001b[39m \u001b[38;5;28mstr\u001b[39m(average_options))\n\u001b[0;32m-> 1374\u001b[0m y_type, y_true, y_pred \u001b[38;5;241m=\u001b[39m \u001b[43m_check_targets\u001b[49m\u001b[43m(\u001b[49m\u001b[43my_true\u001b[49m\u001b[43m,\u001b[49m\u001b[43m \u001b[49m\u001b[43my_pred\u001b[49m\u001b[43m)\u001b[49m\n\u001b[1;32m   1375\u001b[0m \u001b[38;5;66;03m# Convert to Python primitive type to avoid NumPy type / Python str\u001b[39;00m\n\u001b[1;32m   1376\u001b[0m \u001b[38;5;66;03m# comparison. See https://github.com/numpy/numpy/issues/6784\u001b[39;00m\n\u001b[1;32m   1377\u001b[0m present_labels \u001b[38;5;241m=\u001b[39m unique_labels(y_true, y_pred)\u001b[38;5;241m.\u001b[39mtolist()\n",
      "File \u001b[0;32m/opt/homebrew/Caskroom/miniconda/base/lib/python3.10/site-packages/sklearn/metrics/_classification.py:95\u001b[0m, in \u001b[0;36m_check_targets\u001b[0;34m(y_true, y_pred)\u001b[0m\n\u001b[1;32m     92\u001b[0m     y_type \u001b[38;5;241m=\u001b[39m {\u001b[38;5;124m\"\u001b[39m\u001b[38;5;124mmulticlass\u001b[39m\u001b[38;5;124m\"\u001b[39m}\n\u001b[1;32m     94\u001b[0m \u001b[38;5;28;01mif\u001b[39;00m \u001b[38;5;28mlen\u001b[39m(y_type) \u001b[38;5;241m>\u001b[39m \u001b[38;5;241m1\u001b[39m:\n\u001b[0;32m---> 95\u001b[0m     \u001b[38;5;28;01mraise\u001b[39;00m \u001b[38;5;167;01mValueError\u001b[39;00m(\n\u001b[1;32m     96\u001b[0m         \u001b[38;5;124m\"\u001b[39m\u001b[38;5;124mClassification metrics can\u001b[39m\u001b[38;5;124m'\u001b[39m\u001b[38;5;124mt handle a mix of \u001b[39m\u001b[38;5;132;01m{0}\u001b[39;00m\u001b[38;5;124m and \u001b[39m\u001b[38;5;132;01m{1}\u001b[39;00m\u001b[38;5;124m targets\u001b[39m\u001b[38;5;124m\"\u001b[39m\u001b[38;5;241m.\u001b[39mformat(\n\u001b[1;32m     97\u001b[0m             type_true, type_pred\n\u001b[1;32m     98\u001b[0m         )\n\u001b[1;32m     99\u001b[0m     )\n\u001b[1;32m    101\u001b[0m \u001b[38;5;66;03m# We can't have more than one value on y_type => The set is no more needed\u001b[39;00m\n\u001b[1;32m    102\u001b[0m y_type \u001b[38;5;241m=\u001b[39m y_type\u001b[38;5;241m.\u001b[39mpop()\n",
      "\u001b[0;31mValueError\u001b[0m: Classification metrics can't handle a mix of binary and multilabel-indicator targets"
     ]
    }
   ],
   "source": [
    "#Precission\n",
    "nw3_initial_precision = precision_score(y_test, y_pred)\n",
    "\n",
    "#Recall\n",
    "nw3_initial_recall_score = recall_score(y_test, y_pred)\n",
    "\n",
    "#F1-score\n",
    "nw3_initial_f1_score = f1_score(y_test, y_pred)\n",
    "\n",
    "print(\"Network 3\")\n",
    "print(\"Initial PrecisionScore:\", nw3_initial_precision)\n",
    "print(\"Initial RecallScore:\", nw3_initial_recall_score)\n",
    "print(\"Initial F1Score:\", nw3_initial_f1_score)"
   ]
  },
  {
   "cell_type": "markdown",
   "id": "18217646",
   "metadata": {},
   "source": [
    "## Network Try#4"
   ]
  },
  {
   "cell_type": "code",
   "execution_count": 297,
   "id": "1c13c6c7",
   "metadata": {},
   "outputs": [],
   "source": [
    "# Define callbacks.\n",
    "\n",
    "# ModelCheckpoint.\n",
    "checkpoint_cb = keras.callbacks.ModelCheckpoint(\"network2_adult_data\", save_best_only=True)\n",
    "\n",
    "# EarlyStopping (with rollback to the best model).\n",
    "early_stopping_cb = keras.callbacks.EarlyStopping(patience=5, restore_best_weights=True)\n",
    "\n",
    "#TensorBoard.\n",
    "tensorboard_cb = keras.callbacks.TensorBoard(run_logdir)"
   ]
  },
  {
   "cell_type": "code",
   "execution_count": 310,
   "id": "47ea2c7e",
   "metadata": {},
   "outputs": [],
   "source": [
    "# Create a function that builds, compiles and returns a Keras model.\n",
    "# Note that the function takes a HyperParameters object (hp) as a parameter, which it can\n",
    "# use to define hyperparameters along with their range of possible values.\n",
    "import keras_tuner as kt\n",
    "\n",
    "def build_model(hp):\n",
    "    n_hidden = hp.Int(\"n_hidden\", min_value=4, max_value=8, default=4)\n",
    "    n_neurons = hp.Int(\"n_neurons\", min_value=31, max_value=31)\n",
    "    learning_rate = hp.Float(\"learning_rate\", min_value=200, max_value=300,\n",
    "                             sampling=\"log\")\n",
    "    optimizer = tf.keras.optimizers.SGD(learning_rate=learning_rate)\n",
    "    nw3_model = tf.keras.Sequential()\n",
    "    nw3_model.add(tf.keras.layers.Flatten())\n",
    "    for _ in range(n_hidden):\n",
    "        nw3_model.add(tf.keras.layers.Dense(n_neurons, activation=\"relu\"))\n",
    "    nw3_model.add(tf.keras.layers.Dense(20, activation=\"sigmoid\"))\n",
    "    \n",
    "    \n",
    "    nw3_model.compile(loss='sparse_categorical_crossentropy', optimizer='adam', metrics=['accuracy'])\n",
    "    \n",
    "    \n",
    "    \n",
    "    return nw3_model"
   ]
  },
  {
   "cell_type": "code",
   "execution_count": 311,
   "id": "37fd29c5",
   "metadata": {},
   "outputs": [
    {
     "name": "stdout",
     "output_type": "stream",
     "text": [
      "Trial 10 Complete [00h 00m 08s]\n",
      "val_accuracy: 0.8400331735610962\n",
      "\n",
      "Best val_accuracy So Far: 0.8404476046562195\n",
      "Total elapsed time: 00h 01m 12s\n",
      "INFO:tensorflow:Oracle triggered exit\n"
     ]
    }
   ],
   "source": [
    "# Use KerasTuner RandomSearch to tune hyperparameters\n",
    "random_search_tuner = kt.RandomSearch(\n",
    "    build_model, objective=\"val_accuracy\", max_trials=10, overwrite=True,\n",
    "    directory=\"my_mnist\", project_name=\"my_rnd_search\", seed=42)\n",
    "\n",
    "random_search_tuner.search(X_train, y_train, epochs=40,\n",
    "                           validation_data=(X_valid, y_valid),\n",
    "                           callbacks=[checkpoint_cb, early_stopping_cb, tensorboard_cb])"
   ]
  },
  {
   "cell_type": "code",
   "execution_count": 303,
   "id": "0b118ad2",
   "metadata": {},
   "outputs": [
    {
     "name": "stdout",
     "output_type": "stream",
     "text": [
      "Trial summary\n",
      "Hyperparameters:\n",
      "n_hidden: 7\n",
      "n_neurons: 31\n",
      "learning_rate: 3.118133260427308e-06\n",
      "Score: 0.8404476046562195\n"
     ]
    }
   ],
   "source": [
    "# Display a summary of the best model:\n",
    "best_trial = random_search_tuner.oracle.get_best_trials(num_trials=1)[0]\n",
    "best_trial.summary()"
   ]
  },
  {
   "cell_type": "code",
   "execution_count": 289,
   "id": "457082f2",
   "metadata": {},
   "outputs": [
    {
     "name": "stdout",
     "output_type": "stream",
     "text": [
      "Trial summary\n",
      "Hyperparameters:\n",
      "n_hidden: 6\n",
      "n_neurons: 31\n",
      "learning_rate: 0.07902373711581126\n",
      "Score: 0.8412764072418213\n"
     ]
    }
   ],
   "source": [
    "# Display a summary of the best model:\n",
    "best_trial = random_search_tuner.oracle.get_best_trials(num_trials=1)[0]\n",
    "best_trial.summary()"
   ]
  },
  {
   "cell_type": "code",
   "execution_count": null,
   "id": "4f5728be",
   "metadata": {},
   "outputs": [],
   "source": []
  },
  {
   "cell_type": "code",
   "execution_count": null,
   "id": "ea94405d",
   "metadata": {},
   "outputs": [],
   "source": []
  },
  {
   "cell_type": "code",
   "execution_count": null,
   "id": "735865fa",
   "metadata": {},
   "outputs": [],
   "source": []
  },
  {
   "cell_type": "code",
   "execution_count": null,
   "id": "b0710467",
   "metadata": {},
   "outputs": [],
   "source": []
  },
  {
   "cell_type": "code",
   "execution_count": null,
   "id": "2f807511",
   "metadata": {},
   "outputs": [],
   "source": []
  },
  {
   "cell_type": "code",
   "execution_count": 44,
   "id": "0ad0e26d",
   "metadata": {},
   "outputs": [],
   "source": [
    "# Define the root log directory\n",
    "root_logdir = os.path.join(os.curdir, \"network1_logs\")"
   ]
  },
  {
   "cell_type": "code",
   "execution_count": null,
   "id": "a15e1763",
   "metadata": {},
   "outputs": [],
   "source": []
  },
  {
   "cell_type": "code",
   "execution_count": null,
   "id": "e7082145",
   "metadata": {},
   "outputs": [],
   "source": []
  },
  {
   "cell_type": "code",
   "execution_count": null,
   "id": "6e84d3f5",
   "metadata": {},
   "outputs": [],
   "source": []
  },
  {
   "cell_type": "code",
   "execution_count": null,
   "id": "440da894",
   "metadata": {},
   "outputs": [],
   "source": []
  },
  {
   "cell_type": "code",
   "execution_count": 45,
   "id": "b6949b3a",
   "metadata": {},
   "outputs": [
    {
     "data": {
      "text/plain": [
       "'./network1_logs/run_2023_03_20-18_21_17'"
      ]
     },
     "execution_count": 45,
     "metadata": {},
     "output_type": "execute_result"
    }
   ],
   "source": [
    "def get_run_logdir():\n",
    "    import time\n",
    "    run_id = time.strftime(\"run_%Y_%m_%d-%H_%M_%S\")\n",
    "    return os.path.join(root_logdir, run_id)\n",
    "\n",
    "run_logdir = get_run_logdir()\n",
    "run_logdir"
   ]
  },
  {
   "cell_type": "code",
   "execution_count": null,
   "id": "05f1c767",
   "metadata": {},
   "outputs": [],
   "source": []
  },
  {
   "cell_type": "code",
   "execution_count": null,
   "id": "185035e8",
   "metadata": {},
   "outputs": [],
   "source": []
  },
  {
   "cell_type": "code",
   "execution_count": null,
   "id": "2864c635",
   "metadata": {},
   "outputs": [],
   "source": []
  },
  {
   "cell_type": "code",
   "execution_count": null,
   "id": "4e2c533c",
   "metadata": {},
   "outputs": [],
   "source": []
  },
  {
   "cell_type": "code",
   "execution_count": null,
   "id": "4eda8e59",
   "metadata": {},
   "outputs": [],
   "source": []
  },
  {
   "cell_type": "code",
   "execution_count": null,
   "id": "f19025b6",
   "metadata": {},
   "outputs": [],
   "source": []
  },
  {
   "cell_type": "code",
   "execution_count": null,
   "id": "6f9c9173",
   "metadata": {},
   "outputs": [],
   "source": []
  },
  {
   "cell_type": "code",
   "execution_count": null,
   "id": "6bfa268a",
   "metadata": {},
   "outputs": [],
   "source": []
  },
  {
   "cell_type": "code",
   "execution_count": null,
   "id": "7e56b793",
   "metadata": {},
   "outputs": [],
   "source": []
  },
  {
   "cell_type": "code",
   "execution_count": null,
   "id": "aacae797",
   "metadata": {},
   "outputs": [],
   "source": []
  },
  {
   "cell_type": "code",
   "execution_count": null,
   "id": "cb9338a2",
   "metadata": {},
   "outputs": [],
   "source": []
  },
  {
   "cell_type": "code",
   "execution_count": null,
   "id": "be67841b",
   "metadata": {},
   "outputs": [],
   "source": []
  },
  {
   "cell_type": "code",
   "execution_count": null,
   "id": "de609aae",
   "metadata": {},
   "outputs": [],
   "source": []
  },
  {
   "cell_type": "code",
   "execution_count": 28,
   "id": "95c77519",
   "metadata": {},
   "outputs": [],
   "source": []
  },
  {
   "cell_type": "code",
   "execution_count": 29,
   "id": "ade9b73b",
   "metadata": {},
   "outputs": [],
   "source": []
  },
  {
   "cell_type": "code",
   "execution_count": null,
   "id": "b823249f",
   "metadata": {},
   "outputs": [],
   "source": []
  },
  {
   "cell_type": "markdown",
   "id": "101fdf1f",
   "metadata": {},
   "source": [
    "## Display learning curves in TensorBoard"
   ]
  },
  {
   "cell_type": "code",
   "execution_count": null,
   "id": "4fb14ec1",
   "metadata": {},
   "outputs": [],
   "source": [
    "# Load the TensorBoard extension in the Jupyter notebook\n",
    "%load_ext tensorboard\n",
    "\n",
    "# Start the TensorBoard server, and view inside the notebook.\n",
    "%tensorboard --logdir=./my_logs --port=6006"
   ]
  },
  {
   "cell_type": "markdown",
   "id": "84a3c3b2",
   "metadata": {},
   "source": [
    "# Creating the neutral network   "
   ]
  },
  {
   "cell_type": "code",
   "execution_count": null,
   "id": "48c3dc4c",
   "metadata": {},
   "outputs": [],
   "source": [
    "model = Sequential()\n",
    "model.add(Dense(10, input_dim=10, activation='relu'))\n",
    "model.add(Dropout(0.1))\n",
    "model.add(Dense(10, activation='relu'))\n",
    "model.add(Dropout(0.1))\n",
    "model.add(Dense(10, activation='relu'))\n",
    "model.add(Dropout(0.1))\n",
    "model.add(Dense(10, activation='relu'))\n",
    "model.add(Dropout(0.1))\n",
    "model.add(Dense(1, activation='sigmoid'))"
   ]
  },
  {
   "cell_type": "markdown",
   "id": "21818e4f",
   "metadata": {},
   "source": [
    "Next step is compilation of a neural network. It takes 3 arguments which can be used for fine tuning based on give dataset."
   ]
  },
  {
   "cell_type": "code",
   "execution_count": null,
   "id": "007e5a7a",
   "metadata": {},
   "outputs": [],
   "source": [
    "# Compiling the neutral network model\n",
    "model.compile(loss='binary_crossentropy', optimizer='adam', metrics=['accuracy'])\n",
    "model.summary()"
   ]
  },
  {
   "cell_type": "markdown",
   "id": "bf42ca09",
   "metadata": {},
   "source": [
    "Now comes the part where neural network is going through the process of learning. \n",
    "\n",
    "fit() method provided by Keras library\n",
    "\n",
    "It takes a nuber of parametrs explained below\n",
    "   X_train: The feature data (independent variables) used for training the model.\n",
    "   Y_train: The target data (dependent variable) used for training the model.\n",
    "   epochs: The number of times the entire training dataset is passed through the model during training. Here, it is       set to 10, meaning that the model will be trained for 10 iterations over the entire dataset.\n",
    "   batch_size: The number of samples used in each batch during training. Here, it is set to 1, meaning that the model     will update its weights after each sample is processed."
   ]
  },
  {
   "cell_type": "code",
   "execution_count": null,
   "id": "ad46aeb9",
   "metadata": {},
   "outputs": [],
   "source": [
    "history = model.fit(X_train, Y_train, epochs=10, batch_size=1)"
   ]
  },
  {
   "cell_type": "markdown",
   "id": "f0a8592e",
   "metadata": {},
   "source": []
  },
  {
   "cell_type": "code",
   "execution_count": null,
   "id": "26c47d71",
   "metadata": {},
   "outputs": [],
   "source": [
    "from sklearn.metrics import f1_score\n",
    "from sklearn.metrics import precision_score\n",
    "from sklearn.metrics import recall_score"
   ]
  },
  {
   "cell_type": "markdown",
   "id": "ce98ba44",
   "metadata": {},
   "source": [
    "By applying this threshold, the output predictions are converted into a binary format that is easier to interpret and use for further analysis, such as classification metrics like precision and recall."
   ]
  },
  {
   "cell_type": "code",
   "execution_count": null,
   "id": "3206959a",
   "metadata": {},
   "outputs": [],
   "source": [
    "# Applying threshold\n",
    "y_pred = model.predict(X_test)\n",
    "y_pred = (y_pred > 0.30)"
   ]
  },
  {
   "cell_type": "markdown",
   "id": "4a6042f8",
   "metadata": {},
   "source": [
    "Here we have values to give a brief overview of how successfull is our trained model when tested with generated.\n",
    "\n",
    "Precission reflects pecentage of true positive as a fraction of all positive results.\n",
    "\n",
    "Recall, also known as sensitivity or true positive rate, measures the proportion of true positives out of all actual positives (positive cases in the ground truth). A high recall indicates that the model is correctly identifying positive cases and has a low rate of false negatives (predicted negative cases that are actually positive)\n",
    "\n",
    "The F1 score is the harmonic mean of precision and recall and ranges from 0 (worst) to 1 (best)."
   ]
  },
  {
   "cell_type": "code",
   "execution_count": null,
   "id": "cfd9973b",
   "metadata": {},
   "outputs": [],
   "source": [
    "#Precission\n",
    "precision_score(Y_test, y_pred)"
   ]
  },
  {
   "cell_type": "code",
   "execution_count": null,
   "id": "8ca7d299",
   "metadata": {},
   "outputs": [],
   "source": [
    "#Recall\n",
    "recall_score(Y_test, y_pred)"
   ]
  },
  {
   "cell_type": "code",
   "execution_count": null,
   "id": "db99278e",
   "metadata": {},
   "outputs": [],
   "source": [
    "#F1-score\n",
    "f1_score(Y_test, y_pred)"
   ]
  },
  {
   "cell_type": "code",
   "execution_count": 312,
   "id": "0db4f803",
   "metadata": {},
   "outputs": [],
   "source": [
    "from sklearn.linear_model import LogisticRegression\n",
    "from sklearn.naive_bayes import GaussianNB\n",
    "from sklearn.ensemble import RandomForestClassifier\n",
    "from sklearn.tree import DecisionTreeClassifier\n",
    "from sklearn.svm import SVC\n",
    "from xgboost import XGBClassifier"
   ]
  },
  {
   "cell_type": "code",
   "execution_count": 313,
   "id": "76b626f1",
   "metadata": {},
   "outputs": [],
   "source": [
    "lr = LogisticRegression(solver = \"liblinear\")\n",
    "gn = GaussianNB()\n",
    "rf = RandomForestClassifier()\n",
    "dt = DecisionTreeClassifier()\n",
    "svc = SVC()\n",
    "xgb = XGBClassifier()"
   ]
  },
  {
   "cell_type": "code",
   "execution_count": 324,
   "id": "c4029d57",
   "metadata": {},
   "outputs": [
    {
     "name": "stderr",
     "output_type": "stream",
     "text": [
      "/opt/homebrew/Caskroom/miniconda/base/lib/python3.10/site-packages/sklearn/utils/validation.py:1143: DataConversionWarning: A column-vector y was passed when a 1d array was expected. Please change the shape of y to (n_samples, ), for example using ravel().\n",
      "  y = column_or_1d(y, warn=True)\n",
      "/opt/homebrew/Caskroom/miniconda/base/lib/python3.10/site-packages/sklearn/utils/validation.py:1143: DataConversionWarning: A column-vector y was passed when a 1d array was expected. Please change the shape of y to (n_samples, ), for example using ravel().\n",
      "  y = column_or_1d(y, warn=True)\n",
      "/var/folders/t8/b1_99hjn46d11y74f5mvq38h0000gn/T/ipykernel_7555/3698403520.py:10: DataConversionWarning: A column-vector y was passed when a 1d array was expected. Please change the shape of y to (n_samples,), for example using ravel().\n",
      "  rf.fit(X_train,y_train)\n",
      "/opt/homebrew/Caskroom/miniconda/base/lib/python3.10/site-packages/sklearn/utils/validation.py:1143: DataConversionWarning: A column-vector y was passed when a 1d array was expected. Please change the shape of y to (n_samples, ), for example using ravel().\n",
      "  y = column_or_1d(y, warn=True)\n"
     ]
    }
   ],
   "source": [
    "#LogisticRegression\n",
    "lr.fit(X_train, y_train)\n",
    "y_pred_lr = lr.predict(X_test)\n",
    "\n",
    "#GaussianNB/ Naive Byers\n",
    "gn.fit(X_train,y_train)\n",
    "y_pred_gn = gn.predict(X_test)\n",
    "\n",
    "#RandomForestClassifier\n",
    "rf.fit(X_train,y_train)\n",
    "y_pred_rf = rf.predict(X_test)\n",
    "\n",
    "#DecisionTreeClassifier\n",
    "dt.fit(X_train,y_train)\n",
    "y_pred_dt = dt.predict(X_test)\n",
    "\n",
    "#SVC\n",
    "svc.fit(X_train,y_train)\n",
    "y_pred_svc = svc.predict(X_test)\n",
    "\n",
    "#XGB\n",
    "xgb.fit(X_train,y_train)\n",
    "y_pred_xgb = xgb.predict(X_test)"
   ]
  },
  {
   "cell_type": "code",
   "execution_count": 325,
   "id": "325785f2",
   "metadata": {},
   "outputs": [],
   "source": [
    "from sklearn.metrics import accuracy_score\n",
    "from sklearn.metrics import f1_score\n",
    "from sklearn.metrics import mean_absolute_error\n",
    "from sklearn.metrics import mean_squared_error\n",
    "from sklearn.model_selection import train_test_split"
   ]
  },
  {
   "cell_type": "code",
   "execution_count": 327,
   "id": "c7b27308",
   "metadata": {},
   "outputs": [
    {
     "name": "stdout",
     "output_type": "stream",
     "text": [
      "Logistic Regression:\n",
      "Accuracy score: 82.517\n",
      "F1 Score:  55.462\n",
      "MSE:  17.483\n",
      "GaussianNB/ Naive Byers:\n",
      "Accuracy score: 79.943\n",
      "F1 Score:  38.495\n",
      "MSE:  20.057\n",
      "RandomForestClassifier:\n",
      "Accuracy score: 84.164\n",
      "F1 Score:  64.834\n",
      "MSE:  15.836\n",
      "DecisionTreeClassifier:\n",
      "Accuracy score: 80.583\n",
      "F1 Score:  59.206\n",
      "MSE:  19.417\n",
      "Support Vector Machine:\n",
      "Accuracy score: 79.644\n",
      "F1 Score:  27.651\n",
      "MSE:  20.356\n",
      "XGBoost Classifier:\n",
      "Accuracy score: 86.717\n",
      "F1 Score:  70.336\n",
      "MSE:  13.283\n"
     ]
    }
   ],
   "source": [
    "print(\"Logistic Regression:\")\n",
    "print(\"Accuracy score:\", round(accuracy_score(y_test, y_pred_lr) * 100, 3))\n",
    "print(\"F1 Score: \", round(f1_score(y_test,y_pred_lr) * 100,3))\n",
    "print(\"MSE: \", round(mean_squared_error(y_test,y_pred_lr) * 100,3))\n",
    "\n",
    "\n",
    "print(\"GaussianNB/ Naive Byers:\")\n",
    "print('Accuracy score:', round(accuracy_score(y_test, y_pred_gn) * 100, 3))\n",
    "print(\"F1 Score: \", round(f1_score(y_test,y_pred_gn) * 100,3))\n",
    "print(\"MSE: \", round(mean_squared_error(y_test,y_pred_gn) * 100,3))\n",
    "\n",
    "print(\"RandomForestClassifier:\")\n",
    "print('Accuracy score:', round(accuracy_score(y_test, y_pred_rf) * 100, 3))\n",
    "print(\"F1 Score: \", round(f1_score(y_test,y_pred_rf) * 100,3))\n",
    "print(\"MSE: \", round(mean_squared_error(y_test,y_pred_rf) * 100,3))\n",
    "\n",
    "print(\"DecisionTreeClassifier:\")\n",
    "print('Accuracy score:', round(accuracy_score(y_test, y_pred_dt) * 100, 3))\n",
    "print(\"F1 Score: \", round(f1_score(y_test,y_pred_dt) * 100,3))\n",
    "print(\"MSE: \", round(mean_squared_error(y_test,y_pred_dt) * 100,3))\n",
    "\n",
    "print(\"Support Vector Machine:\")\n",
    "print('Accuracy score:', round(accuracy_score(y_test, y_pred_svc) * 100, 3))\n",
    "print(\"F1 Score: \", round(f1_score(y_test,y_pred_svc) * 100,3))\n",
    "print(\"MSE: \", round(mean_squared_error(y_test,y_pred_svc) * 100,3))\n",
    "\n",
    "print(\"XGBoost Classifier:\")\n",
    "print('Accuracy score:', round(accuracy_score(y_test, y_pred_xgb) * 100, 3))\n",
    "print(\"F1 Score: \", round(f1_score(y_test,y_pred_xgb) * 100,3))\n",
    "print(\"MSE: \", round(mean_squared_error(y_test,y_pred_xgb) * 100,3))"
   ]
  },
  {
   "cell_type": "code",
   "execution_count": 335,
   "id": "208fdac9",
   "metadata": {},
   "outputs": [
    {
     "name": "stdout",
     "output_type": "stream",
     "text": [
      "XGBoost Classifier:\n",
      "Accuracy score: 81.191\n",
      "F1 Score:  60.028\n",
      "MSE:  18.809\n"
     ]
    }
   ],
   "source": [
    "from sklearn.neural_network import MLPClassifier\n",
    "\n",
    "# Create an instance of MLPClassifier with the desired hyperparameters\n",
    "mlp = MLPClassifier(hidden_layer_sizes=(50, 50), activation='relu', solver='adam', max_iter=1000)\n",
    "\n",
    "# Fit the MLP model to the training data\n",
    "mlp.fit(X_train, y_train)\n",
    "\n",
    "# Predict the class labels for the test data using the trained MLP model\n",
    "y_pred_mlp = mlp.predict(X_test)\n",
    "\n",
    "print(\"XGBoost Classifier:\")\n",
    "print('Accuracy score:', round(accuracy_score(y_test, y_pred_mlp) * 100, 3))\n",
    "print(\"F1 Score: \", round(f1_score(y_test,y_pred_mlp) * 100,3))\n",
    "print(\"MSE: \", round(mean_squared_error(y_test,y_pred_mlp) * 100,3))"
   ]
  },
  {
   "cell_type": "code",
   "execution_count": 345,
   "id": "ebd57bc6",
   "metadata": {},
   "outputs": [
    {
     "name": "stdout",
     "output_type": "stream",
     "text": [
      "Accuracy scores:\n",
      "Multilayer Perceptron: 0.7878218587689247\n",
      "Random Forest: 0.8585479058459499\n",
      "Gradient Boosted Decision Trees: 0.8683832467675986\n"
     ]
    }
   ],
   "source": [
    "# Import necessary libraries\n",
    "import pandas as pd\n",
    "import numpy as np\n",
    "from sklearn.model_selection import train_test_split\n",
    "from sklearn.neural_network import MLPClassifier\n",
    "from sklearn.ensemble import RandomForestClassifier\n",
    "from sklearn.ensemble import GradientBoostingClassifier\n",
    "from sklearn.metrics import accuracy_score\n",
    "from keras.models import Sequential\n",
    "from keras.layers import Conv2D, MaxPooling2D, Flatten, Dense, Dropout\n",
    "\n",
    "\n",
    "# Define X and y variables and split the data into train, validation, and test sets\n",
    "X = training_df.drop('salary', axis=1)\n",
    "y = training_df['salary']\n",
    "X_train, X_test, y_train, y_test = train_test_split(X, y, test_size=0.3, random_state=30)\n",
    "X_train, X_valid, y_train, y_valid = train_test_split(X_train, y_train, test_size=0.2, random_state=40)\n",
    "\n",
    "# Multilayer Perceptron (MLP)\n",
    "mlp = MLPClassifier(hidden_layer_sizes=(50, 50), activation='relu', solver='adam', max_iter=1000)\n",
    "mlp.fit(X_train, y_train)\n",
    "y_pred_mlp = mlp.predict(X_test)\n",
    "accuracy_mlp = accuracy_score(y_test, y_pred_mlp)\n",
    "\n",
    "# Random Forest\n",
    "rf = RandomForestClassifier(n_estimators=100, random_state=42)\n",
    "rf.fit(X_train, y_train)\n",
    "y_pred_rf = rf.predict(X_test)\n",
    "accuracy_rf = accuracy_score(y_test, y_pred_rf)\n",
    "\n",
    "# Gradient Boosted Decision Trees (GBDT)\n",
    "gbdt = GradientBoostingClassifier(n_estimators=100, learning_rate=1.0, max_depth=1, random_state=42)\n",
    "gbdt.fit(X_train, y_train)\n",
    "y_pred_gbdt = gbdt.predict(X_test)\n",
    "accuracy_gbdt = accuracy_score(y_test, y_pred_gbdt)\n",
    "\n",
    "# Print the accuracy scores for each classifier\n",
    "print(\"Accuracy scores:\")\n",
    "print(\"Multilayer Perceptron:\", accuracy_mlp)\n",
    "print(\"Random Forest:\", accuracy_rf)\n",
    "print(\"Gradient Boosted Decision Trees:\", accuracy_gbdt)\n"
   ]
  },
  {
   "cell_type": "code",
   "execution_count": null,
   "id": "64f8c316",
   "metadata": {},
   "outputs": [],
   "source": []
  }
 ],
 "metadata": {
  "kernelspec": {
   "display_name": "Python 3 (ipykernel)",
   "language": "python",
   "name": "python3"
  },
  "language_info": {
   "codemirror_mode": {
    "name": "ipython",
    "version": 3
   },
   "file_extension": ".py",
   "mimetype": "text/x-python",
   "name": "python",
   "nbconvert_exporter": "python",
   "pygments_lexer": "ipython3",
   "version": "3.10.9"
  }
 },
 "nbformat": 4,
 "nbformat_minor": 5
}
